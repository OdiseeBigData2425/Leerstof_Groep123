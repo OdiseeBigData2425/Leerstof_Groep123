{
 "cells": [
  {
   "cell_type": "markdown",
   "id": "7a82620d",
   "metadata": {},
   "source": [
    "# MLlib\n",
    "\n",
    "Spark biedt ook een framework aan voor MachineLearning modellen te trainen op gedistribueerde datasets.\n",
    "Dit framework is MLlib of ook wel sparkML genoemd.\n",
    "De code om te werken met deze package is sterk gelijkaardig aan sklearn.\n",
    "De API en een uitgebreide documentatie met voorbeeldcode kan je [hier](https://spark.apache.org/docs/latest/ml-guide.html) vinden.\n",
    "\n",
    "Deze package bied de volgende tools aan\n",
    "* ML-technieken: classificatie, regressie, clustering, ...\n",
    "* Features: Extracting en transforming van features, PCA, ...\n",
    "* Pipelines: Maak, train, optimaliseer en evalueer pipelines\n",
    "* Persistentie: Bewaar en laden van algoritmes/modellen\n",
    "* Databeheer: Algebra tools, statistieken, null-waarden, ...\n",
    "\n",
    "Let op dat er twee API's aangeboden worden, 1 gebaseerd op RDD's en 1 op DataFrames.\n",
    "De API gebaseerd op RDD's is ouder en minder flexibel dan de API gebruik makend van DataFrames.\n",
    "Momenteel werken ze allebei maar in de toekomst zou de RDD gebaseerde kunnen verdwijnen.\n",
    "\n",
    "## Utilities\n",
    "\n",
    "### Varianten voor numpy-arrays\n",
    "\n",
    "Voor feature sets en volledige matrices van datasets aan te maken kan je gebruik maken van de Vector en Matrix klassen.\n",
    "Deze beschikken over een Dense variant waar je elk element moet ingeven of een Sparse Variant waar cellen, elementen leeg kan laten.\n",
    "Dit ziet er als volgt uit:"
   ]
  },
  {
   "cell_type": "code",
   "execution_count": 1,
   "id": "5ef759da",
   "metadata": {},
   "outputs": [
    {
     "name": "stderr",
     "output_type": "stream",
     "text": [
      "Setting default log level to \"WARN\".\n",
      "To adjust logging level use sc.setLogLevel(newLevel). For SparkR, use setLogLevel(newLevel).\n",
      "25/05/02 09:25:09 WARN NativeCodeLoader: Unable to load native-hadoop library for your platform... using builtin-java classes where applicable\n",
      "25/05/02 09:25:10 WARN Utils: Service 'SparkUI' could not bind on port 4040. Attempting port 4041.\n"
     ]
    }
   ],
   "source": [
    "from pyspark.sql import SparkSession\n",
    "\n",
    "spark = SparkSession.builder.appName(\"MLLib intro\").getOrCreate()"
   ]
  },
  {
   "cell_type": "code",
   "execution_count": 2,
   "id": "d8693edb-b884-4190-a75a-500cbf55644e",
   "metadata": {},
   "outputs": [
    {
     "name": "stdout",
     "output_type": "stream",
     "text": [
      "DenseMatrix([[ 0.,  4.,  8., 12.],\n",
      "             [ 1.,  5.,  9., 13.],\n",
      "             [ 2.,  6., 10., 14.],\n",
      "             [ 3.,  7., 11., 15.]])\n"
     ]
    }
   ],
   "source": [
    "from pyspark.ml.linalg import Vectors, Matrices\n",
    "\n",
    "data = Vectors.sparse(4, (0, 1.0), (2, 1.0))\n",
    "data = Vectors.dense([1.0, 0.0, 1.0, 0.0]) # zelfde vector als hierboven\n",
    "data = Matrices.dense(4,4, range(16))\n",
    "print(data)"
   ]
  },
  {
   "cell_type": "markdown",
   "id": "d0143ac7",
   "metadata": {},
   "source": [
    "Het is belangrijk om te weten dat dit locale datastructuren (wrapper rond numpy array) zijn en geen gedistribueerde objecten."
   ]
  },
  {
   "cell_type": "markdown",
   "id": "36f5676b",
   "metadata": {},
   "source": [
    "### Statistieken\n",
    "\n",
    "Voor er kan gewerkt worden met statistieken moeten we (net zoals bij pandas) eerst een dataset hebben.\n",
    "Hieronder maken we een random dataframe aan van 50 rijen en 4 kolommen."
   ]
  },
  {
   "cell_type": "code",
   "execution_count": 7,
   "id": "91673fc0",
   "metadata": {},
   "outputs": [
    {
     "name": "stdout",
     "output_type": "stream",
     "text": [
      "[Row(_1=0.6923735011548775, _2=0.8566516404434346, _3=0.38898964799624125, _4=0.4146392116026095), Row(_1=0.3006456031525676, _2=0.6449957295745641, _3=0.8049665733988637, _4=0.7778958276334631), Row(_1=0.5961757789608558, _2=0.5627378050860062, _3=0.5640662118309633, _4=0.5611372562837672), Row(_1=0.9963077651043213, _2=0.6413155459143532, _3=0.8089928114531848, _4=0.028666595288168506), Row(_1=0.6068209371137967, _2=0.9933846956559048, _3=0.7214361528181714, _4=0.3855334877022376)]\n",
      "+-------+-------------------+--------------------+--------------------+--------------------+\n",
      "|summary|                 _1|                  _2|                  _3|                  _4|\n",
      "+-------+-------------------+--------------------+--------------------+--------------------+\n",
      "|  count|                 50|                  50|                  50|                  50|\n",
      "|   mean| 0.5650113183106451|   0.513957360985025|  0.5113038509764116|  0.4469958822649707|\n",
      "| stddev| 0.2667521082280384|  0.2785738381112974|  0.2931193774922719| 0.29949033480392945|\n",
      "|    min|0.06449437882250553|0.023997855420569203|0.003104816019747325|0.012952057438114895|\n",
      "|    25%|0.35186351605820476| 0.30430268641985014| 0.29818920353226563| 0.18896889603910283|\n",
      "|    50%| 0.5961757789608558|  0.5007755248329127|  0.4543437961415562|  0.4146392116026095|\n",
      "|    75%| 0.7860195542416596|  0.7339255457426218|  0.7744499698379007|  0.6516763013073287|\n",
      "|    max| 0.9963077651043213|  0.9933846956559048|   0.988416086355417|  0.9848219428953131|\n",
      "+-------+-------------------+--------------------+--------------------+--------------------+\n",
      "\n"
     ]
    },
    {
     "name": "stderr",
     "output_type": "stream",
     "text": [
      "                                                                                \r"
     ]
    }
   ],
   "source": [
    "from pyspark.mllib.random import RandomRDDs\n",
    "sc = spark.sparkContext\n",
    "\n",
    "# maak wat random data aan (50 rijen en 4 kolommen)\n",
    "data = RandomRDDs.uniformVectorRDD(sc, 50, 4).map(lambda a: a.tolist()).toDF()\n",
    "print(data.head(5))\n",
    "data.summary().show()\n"
   ]
  },
  {
   "cell_type": "markdown",
   "id": "e5c3fad4",
   "metadata": {},
   "source": [
    "**Correlation matrix**\n",
    "\n",
    "Buiten de statistieken die berekend kunnen worden door de summary() functie kan ook de correlatiematrix belangrijk zijn.\n",
    "Deze matrix maakt het mogelijk om het verband tussen de verscheidene features te bestuderen.\n",
    "Deze matrix kan als volgt berekend worden voor een gedistribueerd dataframe."
   ]
  },
  {
   "cell_type": "code",
   "execution_count": 10,
   "id": "f4b6287f",
   "metadata": {},
   "outputs": [
    {
     "name": "stdout",
     "output_type": "stream",
     "text": [
      "+-------------------+--------------------+-------------------+--------------------+--------------------+\n",
      "|                 _1|                  _2|                 _3|                  _4|              vector|\n",
      "+-------------------+--------------------+-------------------+--------------------+--------------------+\n",
      "| 0.6923735011548775|  0.8566516404434346|0.38898964799624125|  0.4146392116026095|[0.69237350115487...|\n",
      "| 0.3006456031525676|  0.6449957295745641| 0.8049665733988637|  0.7778958276334631|[0.30064560315256...|\n",
      "| 0.5961757789608558|  0.5627378050860062| 0.5640662118309633|  0.5611372562837672|[0.59617577896085...|\n",
      "| 0.9963077651043213|  0.6413155459143532| 0.8089928114531848|0.028666595288168506|[0.99630776510432...|\n",
      "| 0.6068209371137967|  0.9933846956559048| 0.7214361528181714|  0.3855334877022376|[0.60682093711379...|\n",
      "| 0.4745116448116551|  0.4829454889389445| 0.7488223144052799|  0.3076219786488289|[0.47451164481165...|\n",
      "|0.09178104049249336|  0.1217772461580291| 0.5830332244802302| 0.19662722337152783|[0.09178104049249...|\n",
      "| 0.9899935297545309|  0.6254467633943565| 0.3896513169142426|  0.2221123606580584|[0.98999352975453...|\n",
      "|0.17585751240119496|  0.5452525166517469| 0.4504313485832293|  0.9176198967492584|[0.17585751240119...|\n",
      "|0.09257945162489545| 0.48997025938127947|0.39920694207614404|  0.9848219428953131|[0.09257945162489...|\n",
      "| 0.2684885540457824|  0.3321990327606752| 0.6462920666642263| 0.06662266162031882|[0.26848855404578...|\n",
      "| 0.7537905579830605|  0.6387634582581156| 0.3131229670536285| 0.34157591126779896|[0.75379055798306...|\n",
      "| 0.8675712703494347|0.035379458108955486| 0.7111907246473702|  0.4742893301834792|[0.86757127034943...|\n",
      "|0.21080633823118788|  0.8565639093789568|0.29818920353226563|  0.5405469221899636|[0.21080633823118...|\n",
      "| 0.5949668013296379| 0.07916218206569514| 0.5205691365803858| 0.11038305227972223|[0.59496680132963...|\n",
      "|0.35186351605820476| 0.18315360714584394| 0.7546567163644796|  0.5069732304694051|[0.35186351605820...|\n",
      "|0.47928854781180297|  0.9317371984489696| 0.3462319668154904| 0.18032263112653124|[0.47928854781180...|\n",
      "| 0.8790207311650757| 0.45243867255116654|0.19617670949285915|  0.6516763013073287|[0.87902073116507...|\n",
      "|  0.868511834438251|  0.6448173635247078| 0.7257802389971515|  0.4304303858091282|[0.86851183443825...|\n",
      "| 0.6122175092456015|  0.6542947549232352|0.32108770515634166|  0.9550728099546519|[0.61221750924560...|\n",
      "+-------------------+--------------------+-------------------+--------------------+--------------------+\n",
      "only showing top 20 rows\n",
      "\n",
      "+--------------------+\n",
      "|     pearson(vector)|\n",
      "+--------------------+\n",
      "|1.0              ...|\n",
      "+--------------------+\n",
      "\n"
     ]
    },
    {
     "data": {
      "text/plain": [
       "array([ 1.        , -0.01763239,  0.21089861, -0.21264896, -0.01763239,\n",
       "        1.        , -0.05987249, -0.04682253,  0.21089861, -0.05987249,\n",
       "        1.        ,  0.09710416, -0.21264896, -0.04682253,  0.09710416,\n",
       "        1.        ])"
      ]
     },
     "execution_count": 10,
     "metadata": {},
     "output_type": "execute_result"
    }
   ],
   "source": [
    "from pyspark.ml.stat import Correlation\n",
    "from pyspark.ml.feature import VectorAssembler\n",
    "\n",
    "assembler = VectorAssembler(inputCols=data.columns, outputCol='vector')\n",
    "df = assembler.transform(data)\n",
    "df.show()\n",
    "\n",
    "df_corr = Correlation.corr(df, 'vector')\n",
    "df_corr.show() # lastig om te interpreteren\n",
    "df_corr.collect()[0][0].values"
   ]
  },
  {
   "cell_type": "markdown",
   "id": "3e0084e1",
   "metadata": {},
   "source": [
    "**Onafhankelijksheidtest**\n",
    "\n",
    "Naast de correlatiematrix kan het ook belangrijk zijn om de onafhankelijkheid te testen tussen elke feature en een label.\n",
    "Dit kan uitgevoerd worden door een zogenaamde ChiSquareTest.\n",
    "Deze krijgt als input een dataframe, de naam van de kolom met de features (als vectors) en de naam van een kolom met de labels.\n",
    "We kunnen deze test uitvoeren als volgt:"
   ]
  },
  {
   "cell_type": "code",
   "execution_count": 14,
   "id": "8412ba8d",
   "metadata": {},
   "outputs": [
    {
     "name": "stdout",
     "output_type": "stream",
     "text": [
      "+------------+-------------------+----------------+-----------------+\n",
      "|featureIndex|             pValue|degreesOfFreedom|        statistic|\n",
      "+------------+-------------------+----------------+-----------------+\n",
      "|           0| 0.4334366972557635|              49|50.00000000000005|\n",
      "|           1|0.43343669725575984|              49|50.00000000000004|\n",
      "|           2|0.43343669725575984|              49|50.00000000000004|\n",
      "|           3|0.43343669725575984|              49|50.00000000000004|\n",
      "+------------+-------------------+----------------+-----------------+\n",
      "\n"
     ]
    }
   ],
   "source": [
    "import pyspark.sql.functions as f\n",
    "from pyspark.ml.stat import ChiSquareTest\n",
    "\n",
    "df = df.withColumn('label', f.when(f.rand() > 0.5, 1).otherwise(0))\n",
    "\n",
    "ChiSquareTest.test(df, 'vector', 'label', flatten=True).show()\n"
   ]
  },
  {
   "cell_type": "markdown",
   "id": "46bd5dd5-04ea-435c-a33b-e1fdeea81e84",
   "metadata": {},
   "source": [
    "De Chi-square test wordt op de volgende manieren gebruikt in Machine Learning:\n",
    "* Feature selectie: Identificeer welke features een significante relatie hebben met de targetvariabele.\n",
    "* Correlatie tussen categorische variabelen: Evalueer de afhankelijkheid tussen twee categorische variabelen.\n",
    "\n",
    "De Chi-square test vergelijkt de verwachte en werkelijke frequenties van waarden in de categorieën van een feature ten opzichte van de targetvariabele. Het doel is om te bepalen of de verschillen tussen deze frequenties statistisch significant zijn of niet. Een hoge Chi-square score betekent dat er een grote afhankelijkheid is tussen de feature en de target, wat suggereert dat de feature nuttig is voor voorspellingen.\n",
    "Als de p-waarde kleiner is dan een vooraf bepaald significantieniveau (bijvoorbeeld 0,05), verwerp je de nullhypothese (dat er geen relatie is), wat betekent dat de feature relevant is."
   ]
  },
  {
   "cell_type": "markdown",
   "id": "e3640d89",
   "metadata": {},
   "source": [
    "**Summarizer**\n",
    "\n",
    "Andere statistieken per kolom kunnen berekend worden door gebruik te maken van de Summarizer klasse:"
   ]
  },
  {
   "cell_type": "code",
   "execution_count": 19,
   "id": "3c81a515",
   "metadata": {},
   "outputs": [
    {
     "name": "stdout",
     "output_type": "stream",
     "text": [
      "+-----------------------------------------------------------------------------------------------------------------------------------------------------------------+\n",
      "|aggregate_metrics(vector, 1.0)                                                                                                                                   |\n",
      "+-----------------------------------------------------------------------------------------------------------------------------------------------------------------+\n",
      "|{[0.5650113183106451,0.513957360985025,0.5113038509764116,0.44699588226497067], 50, [0.9963077651043213,0.9933846956559048,0.988416086355417,0.9848219428953131]}|\n",
      "+-----------------------------------------------------------------------------------------------------------------------------------------------------------------+\n",
      "\n"
     ]
    }
   ],
   "source": [
    "from pyspark.ml.stat import Summarizer\n",
    "\n",
    "summarizer = Summarizer.metrics('mean', 'count', 'max')\n",
    "df.select(summarizer.summary(df.vector)).show(truncate=False)"
   ]
  },
  {
   "cell_type": "markdown",
   "id": "ac099f10",
   "metadata": {},
   "source": [
    "Het gebruik maken van de Summarizer maakt het dus mogelijk om rechtstreeks op de feature vectors te werken zonder ze eerst terug te moeten splitsen."
   ]
  },
  {
   "cell_type": "markdown",
   "id": "fa4e0343",
   "metadata": {},
   "source": [
    "### Pipelines\n",
    "\n",
    "Pipelines binnen Spark zijn een groep van high-level API's steunend op Dataframes om ML-pipelines aan te maken, optimaliseren en trainen.\n",
    "De belangrijkste concepten binnen de Pipelines van Spark zijn:\n",
    "* Dataframe: concept van de dataset\n",
    "* Transformer: Zet een dataframe om in een ander dataframe\n",
    "* Estimator: Zet een dataframe om in een model/transformer\n",
    "* Pipeline: een ketting van transformers en estimators om een flow vast te leggen\n",
    "* Parameter: API voor parameters van transformers en estimators aan te passen\n",
    "\n",
    "Gebruik nu onderstaande mini-dataset waar we op basis van een tekstkolom met logistische regressie een bepaald label proberen te voorspellen.\n",
    "Maak hiervoor een Pipeline uit die bestaat uit de volgende stappen:\n",
    "* Tokenizer om de tekstkolom te splitsen in de overeenkomstige woorden\n",
    "* HashingTf om de term frequency van de woorden te bepalen en het om te zetten naar een feature vector\n",
    "* LogisticRegression Estimator om de voorspelling te doen.\n",
    "\n",
    "Train daarna deze pipeline en maak de voorspellingen voor de traningsdata.\n",
    "Hoe accuraat is dit model?"
   ]
  },
  {
   "cell_type": "code",
   "execution_count": 29,
   "id": "5bf87b9e",
   "metadata": {},
   "outputs": [
    {
     "name": "stdout",
     "output_type": "stream",
     "text": [
      "+---+--------------------+-----+--------------------+--------------------+--------------------+--------------------+----------+\n",
      "| id|                text|label|              tokens|            features|       rawPrediction|         probability|prediction|\n",
      "+---+--------------------+-----+--------------------+--------------------+--------------------+--------------------+----------+\n",
      "|  0|dit is een stukje...|  1.0|[dit, is, een, st...|(262144,[53374,93...|[-7.0090024438898...|[9.02893686241666...|       1.0|\n",
      "|  1|het is zo warm de...|  0.0|[het, is, zo, war...|(262144,[34996,10...|[6.43914122940283...|[0.99840477060621...|       0.0|\n",
      "|  2|     spark is zo tof|  1.0|[spark, is, zo, tof]|(262144,[67406,10...|[-6.0958785077743...|[0.00224707006141...|       1.0|\n",
      "|  3|ik maak veel oefe...|  0.0|[ik, maak, veel, ...|(262144,[67494,10...|[6.49357045919564...|[0.99848914936497...|       0.0|\n",
      "+---+--------------------+-----+--------------------+--------------------+--------------------+--------------------+----------+\n",
      "\n",
      "+---+--------------------+-----+--------------------+--------------------+--------------------+--------------------+----------+\n",
      "| id|                text|label|              tokens|            features|       rawPrediction|         probability|prediction|\n",
      "+---+--------------------+-----+--------------------+--------------------+--------------------+--------------------+----------+\n",
      "|  0|dit is een stukje...|  1.0|[dit, is, een, st...|(262144,[53374,93...|[-7.0090024438898...|[9.02893686241666...|       1.0|\n",
      "|  1|het is zo warm de...|  0.0|[het, is, zo, war...|(262144,[34996,10...|[6.43914122940283...|[0.99840477060621...|       0.0|\n",
      "|  2|     spark is zo tof|  1.0|[spark, is, zo, tof]|(262144,[67406,10...|[-6.0958785077743...|[0.00224707006141...|       1.0|\n",
      "|  3|ik maak veel oefe...|  0.0|[ik, maak, veel, ...|(262144,[67494,10...|[6.49357045919564...|[0.99848914936497...|       0.0|\n",
      "+---+--------------------+-----+--------------------+--------------------+--------------------+--------------------+----------+\n",
      "\n"
     ]
    }
   ],
   "source": [
    "from pyspark.ml.classification import LogisticRegression\n",
    "from pyspark.ml.feature import HashingTF, Tokenizer\n",
    "from pyspark.ml import Pipeline\n",
    "\n",
    "df = spark.createDataFrame([\n",
    "    (0, 'dit is een stukje spark code', 1.0),\n",
    "    (1, 'het is zo warm deze week pfff', 0.0),\n",
    "    (2, 'spark is zo tof', 1.0),\n",
    "    (3, 'ik maak veel oefeningen', 0.0)\n",
    "], ['id', 'text', 'label'])\n",
    "\n",
    "tokenizer = Tokenizer(inputCol='text', outputCol='tokens')\n",
    "hashingTF = HashingTF(inputCol=tokenizer.getOutputCol(), outputCol='features') # je kan de inputCol zelf typen of opvragen\n",
    "logistic = LogisticRegression(maxIter=10, regParam=0.001) # featres default in features kolom, labels in label kolom\n",
    "\n",
    "df_prep = hashingTF.transform(tokenizer.transform(df))\n",
    "model = logistic.fit(df_prep)\n",
    "model.transform(df_prep).show()\n",
    "\n",
    "pipeline = Pipeline(stages=[tokenizer, hashingTF, logistic])\n",
    "model = pipeline.fit(df)\n",
    "predictions = model.transform(df)\n",
    "predictions.show() # hier kan ik df gebruiken want de tokenizer en hashingTF zijn aanwezig in de pielinemodel"
   ]
  },
  {
   "cell_type": "markdown",
   "id": "0d7e7af8",
   "metadata": {},
   "source": [
    "### Evalueren van een model\n",
    "\n",
    "In de pyspark.ml package zitten er ook functionaliteiten voor deze modellen te evalueren.\n",
    "Meer informatie hierover vind je [hier](https://spark.apache.org/docs/2.2.0/mllib-evaluation-metrics.html)."
   ]
  },
  {
   "cell_type": "code",
   "execution_count": 30,
   "id": "dd4bd140",
   "metadata": {},
   "outputs": [
    {
     "data": {
      "text/plain": [
       "1.0"
      ]
     },
     "execution_count": 30,
     "metadata": {},
     "output_type": "execute_result"
    }
   ],
   "source": [
    "from pyspark.ml.evaluation import BinaryClassificationEvaluator\n",
    "\n",
    "evaluator = BinaryClassificationEvaluator()\n",
    "evaluator.evaluate(predictions)"
   ]
  },
  {
   "cell_type": "markdown",
   "id": "0a305ea2",
   "metadata": {},
   "source": [
    "### Data sources\n",
    "\n",
    "Door gebruik te maken van de sparkContext kunnen een reeks standaard databronnen ingelezen worden om datasets uit op te bouwen (Csv, Json, ...).\n",
    "Daarnaast is het ook mogelijk om een folder met een reeks beelden te gebruiken als dataset om zo een model voor image classification te trainen.\n",
    "Download nu [deze](https://www.kaggle.com/returnofsputnik/chihuahua-or-muffin) dataset en upload ze naar een folder op het hadoop filesysteem."
   ]
  },
  {
   "cell_type": "code",
   "execution_count": 31,
   "id": "7992c49c",
   "metadata": {},
   "outputs": [
    {
     "name": "stdout",
     "output_type": "stream",
     "text": [
      "Skipping, found downloaded files in \"./chihuahua-or-muffin\" (use force=True to force download)\n"
     ]
    }
   ],
   "source": [
    "import opendatasets as od\n",
    "\n",
    "od.download(\"https://www.kaggle.com/returnofsputnik/chihuahua-or-muffin\")"
   ]
  },
  {
   "cell_type": "code",
   "execution_count": 32,
   "id": "62e4f42a-ffec-4f23-8b48-ccd3c2a043d1",
   "metadata": {},
   "outputs": [
    {
     "data": {
      "text/plain": [
       "'/user/bigdata/MLLib/chihuahua-or-muffin'"
      ]
     },
     "execution_count": 32,
     "metadata": {},
     "output_type": "execute_result"
    }
   ],
   "source": [
    "from hdfs import InsecureClient\n",
    "\n",
    "client = InsecureClient('http://localhost:9870', user='bigdata')\n",
    "map = \"/user/bigdata/MLLib\"\n",
    "\n",
    "if client.status(map, strict=False) is None:\n",
    "    client.makedirs(map)\n",
    "else:\n",
    "    # do some cleaning in case anything else than *.txt is present\n",
    "    for f in client.list(map):\n",
    "        client.delete(map + '/' + f, recursive=True)\n",
    "\n",
    "client.upload(map, 'chihuahua-or-muffin')"
   ]
  },
  {
   "cell_type": "markdown",
   "id": "70542e14",
   "metadata": {},
   "source": [
    "De geuploade images kunnen nu ingelezen worden als volgt:"
   ]
  },
  {
   "cell_type": "code",
   "execution_count": 36,
   "id": "ad93c3d8",
   "metadata": {},
   "outputs": [
    {
     "ename": "AnalysisException",
     "evalue": "[PATH_NOT_FOUND] Path does not exist: hdfs://namenode:9000/user/bigdata/MLlib/chihuahua-or-muffin.",
     "output_type": "error",
     "traceback": [
      "\u001b[0;31m---------------------------------------------------------------------------\u001b[0m",
      "\u001b[0;31mAnalysisException\u001b[0m                         Traceback (most recent call last)",
      "Cell \u001b[0;32mIn[36], line 1\u001b[0m\n\u001b[0;32m----> 1\u001b[0m df \u001b[38;5;241m=\u001b[39m \u001b[43mspark\u001b[49m\u001b[38;5;241;43m.\u001b[39;49m\u001b[43mread\u001b[49m\u001b[38;5;241;43m.\u001b[39;49m\u001b[43mformat\u001b[49m\u001b[43m(\u001b[49m\u001b[38;5;124;43m'\u001b[39;49m\u001b[38;5;124;43mimage\u001b[39;49m\u001b[38;5;124;43m'\u001b[39;49m\u001b[43m)\u001b[49m\u001b[38;5;241;43m.\u001b[39;49m\u001b[43moption\u001b[49m\u001b[43m(\u001b[49m\u001b[38;5;124;43m'\u001b[39;49m\u001b[38;5;124;43mdropInvalid\u001b[39;49m\u001b[38;5;124;43m'\u001b[39;49m\u001b[43m,\u001b[49m\u001b[43m \u001b[49m\u001b[38;5;28;43;01mTrue\u001b[39;49;00m\u001b[43m)\u001b[49m\u001b[38;5;241;43m.\u001b[39;49m\u001b[43mload\u001b[49m\u001b[43m(\u001b[49m\u001b[38;5;124;43m'\u001b[39;49m\u001b[38;5;124;43m/user/bigdata/MLlib/chihuahua-or-muffin\u001b[39;49m\u001b[38;5;124;43m'\u001b[39;49m\u001b[43m)\u001b[49m\n\u001b[1;32m      2\u001b[0m df\u001b[38;5;241m.\u001b[39mshow()\n",
      "File \u001b[0;32m/usr/local/lib/python3.10/dist-packages/pyspark/sql/readwriter.py:307\u001b[0m, in \u001b[0;36mDataFrameReader.load\u001b[0;34m(self, path, format, schema, **options)\u001b[0m\n\u001b[1;32m    305\u001b[0m \u001b[38;5;28mself\u001b[39m\u001b[38;5;241m.\u001b[39moptions(\u001b[38;5;241m*\u001b[39m\u001b[38;5;241m*\u001b[39moptions)\n\u001b[1;32m    306\u001b[0m \u001b[38;5;28;01mif\u001b[39;00m \u001b[38;5;28misinstance\u001b[39m(path, \u001b[38;5;28mstr\u001b[39m):\n\u001b[0;32m--> 307\u001b[0m     \u001b[38;5;28;01mreturn\u001b[39;00m \u001b[38;5;28mself\u001b[39m\u001b[38;5;241m.\u001b[39m_df(\u001b[38;5;28;43mself\u001b[39;49m\u001b[38;5;241;43m.\u001b[39;49m\u001b[43m_jreader\u001b[49m\u001b[38;5;241;43m.\u001b[39;49m\u001b[43mload\u001b[49m\u001b[43m(\u001b[49m\u001b[43mpath\u001b[49m\u001b[43m)\u001b[49m)\n\u001b[1;32m    308\u001b[0m \u001b[38;5;28;01melif\u001b[39;00m path \u001b[38;5;129;01mis\u001b[39;00m \u001b[38;5;129;01mnot\u001b[39;00m \u001b[38;5;28;01mNone\u001b[39;00m:\n\u001b[1;32m    309\u001b[0m     \u001b[38;5;28;01mif\u001b[39;00m \u001b[38;5;28mtype\u001b[39m(path) \u001b[38;5;241m!=\u001b[39m \u001b[38;5;28mlist\u001b[39m:\n",
      "File \u001b[0;32m/usr/local/lib/python3.10/dist-packages/py4j/java_gateway.py:1322\u001b[0m, in \u001b[0;36mJavaMember.__call__\u001b[0;34m(self, *args)\u001b[0m\n\u001b[1;32m   1316\u001b[0m command \u001b[38;5;241m=\u001b[39m proto\u001b[38;5;241m.\u001b[39mCALL_COMMAND_NAME \u001b[38;5;241m+\u001b[39m\\\n\u001b[1;32m   1317\u001b[0m     \u001b[38;5;28mself\u001b[39m\u001b[38;5;241m.\u001b[39mcommand_header \u001b[38;5;241m+\u001b[39m\\\n\u001b[1;32m   1318\u001b[0m     args_command \u001b[38;5;241m+\u001b[39m\\\n\u001b[1;32m   1319\u001b[0m     proto\u001b[38;5;241m.\u001b[39mEND_COMMAND_PART\n\u001b[1;32m   1321\u001b[0m answer \u001b[38;5;241m=\u001b[39m \u001b[38;5;28mself\u001b[39m\u001b[38;5;241m.\u001b[39mgateway_client\u001b[38;5;241m.\u001b[39msend_command(command)\n\u001b[0;32m-> 1322\u001b[0m return_value \u001b[38;5;241m=\u001b[39m \u001b[43mget_return_value\u001b[49m\u001b[43m(\u001b[49m\n\u001b[1;32m   1323\u001b[0m \u001b[43m    \u001b[49m\u001b[43manswer\u001b[49m\u001b[43m,\u001b[49m\u001b[43m \u001b[49m\u001b[38;5;28;43mself\u001b[39;49m\u001b[38;5;241;43m.\u001b[39;49m\u001b[43mgateway_client\u001b[49m\u001b[43m,\u001b[49m\u001b[43m \u001b[49m\u001b[38;5;28;43mself\u001b[39;49m\u001b[38;5;241;43m.\u001b[39;49m\u001b[43mtarget_id\u001b[49m\u001b[43m,\u001b[49m\u001b[43m \u001b[49m\u001b[38;5;28;43mself\u001b[39;49m\u001b[38;5;241;43m.\u001b[39;49m\u001b[43mname\u001b[49m\u001b[43m)\u001b[49m\n\u001b[1;32m   1325\u001b[0m \u001b[38;5;28;01mfor\u001b[39;00m temp_arg \u001b[38;5;129;01min\u001b[39;00m temp_args:\n\u001b[1;32m   1326\u001b[0m     \u001b[38;5;28;01mif\u001b[39;00m \u001b[38;5;28mhasattr\u001b[39m(temp_arg, \u001b[38;5;124m\"\u001b[39m\u001b[38;5;124m_detach\u001b[39m\u001b[38;5;124m\"\u001b[39m):\n",
      "File \u001b[0;32m/usr/local/lib/python3.10/dist-packages/pyspark/errors/exceptions/captured.py:185\u001b[0m, in \u001b[0;36mcapture_sql_exception.<locals>.deco\u001b[0;34m(*a, **kw)\u001b[0m\n\u001b[1;32m    181\u001b[0m converted \u001b[38;5;241m=\u001b[39m convert_exception(e\u001b[38;5;241m.\u001b[39mjava_exception)\n\u001b[1;32m    182\u001b[0m \u001b[38;5;28;01mif\u001b[39;00m \u001b[38;5;129;01mnot\u001b[39;00m \u001b[38;5;28misinstance\u001b[39m(converted, UnknownException):\n\u001b[1;32m    183\u001b[0m     \u001b[38;5;66;03m# Hide where the exception came from that shows a non-Pythonic\u001b[39;00m\n\u001b[1;32m    184\u001b[0m     \u001b[38;5;66;03m# JVM exception message.\u001b[39;00m\n\u001b[0;32m--> 185\u001b[0m     \u001b[38;5;28;01mraise\u001b[39;00m converted \u001b[38;5;28;01mfrom\u001b[39;00m \u001b[38;5;28;01mNone\u001b[39;00m\n\u001b[1;32m    186\u001b[0m \u001b[38;5;28;01melse\u001b[39;00m:\n\u001b[1;32m    187\u001b[0m     \u001b[38;5;28;01mraise\u001b[39;00m\n",
      "\u001b[0;31mAnalysisException\u001b[0m: [PATH_NOT_FOUND] Path does not exist: hdfs://namenode:9000/user/bigdata/MLlib/chihuahua-or-muffin."
     ]
    }
   ],
   "source": [
    "df = spark.read.format('image').option('dropInvalid', True).load('/user/bigdata/MLlib/chihuahua-or-muffin')\n",
    "df.show()\n",
    "df.select('image.origin', 'image.width').show(truncate=False)"
   ]
  },
  {
   "cell_type": "markdown",
   "id": "91a67bf4",
   "metadata": {},
   "source": [
    "Merk op dat het werken met images niet zo eenvoudig is.\n",
    "Hiervoor wordt binnen pyspark typisch gebruik gemaakt van de [sparkdl](https://smurching.github.io/spark-deep-learning/site/api/python/sparkdl.html) package.\n",
    "Hierbij staat de dl voor deep learning.\n",
    "Aangezien dit ons momenteel te ver leidt ga ik dit niet verder toelichten."
   ]
  },
  {
   "cell_type": "markdown",
   "id": "b0e4b653",
   "metadata": {},
   "source": [
    "Een andere aparte databron die eenvoudig ingelezen kan worden is het formaat \"libsvm\".\n",
    "Een bestand van dit formaat wordt ingelezen als een dataframe met twee kolommen: een label en een kolom met de feature-vectors.\n",
    "De code om dergelijk bestand in te laden is:"
   ]
  },
  {
   "cell_type": "code",
   "execution_count": null,
   "id": "ee23edf2",
   "metadata": {},
   "outputs": [],
   "source": [
    "spark.read.format('libsvm').load('{path to file}')"
   ]
  },
  {
   "cell_type": "markdown",
   "id": "4baaeb6d-3fcf-4300-b25e-500cb5109c0d",
   "metadata": {},
   "source": [
    "## Voorbeeld\n",
    "\n",
    "Train en evalueer een machine learning model dat beeldgegevens kan classificeren, gebaseerd op eigenschappen zoals hoogte, breedte en aantal kanalen. Omdat MLlib geen directe ondersteuning biedt voor beelddata, zullen we enkele numerieke eigenschappen van de afbeeldingen gebruiken en pipelines opzetten voor preprocessing en training.\n",
    "Hierbij ga je verder werken op het dataframe van de chichuahua of muffin dataset van hierboven.\n",
    "\n",
    "Voer de volgende stappen uit:\n",
    "* Data decoderen en omzetten naar een dataframe dat door ML-kan gebruikt worden.\n",
    "    * Schrijf een udf om de image.data kolom om te zetten naar een vector. Gebruik hiervoor een udf dat dit eerst omzet naar een numpy array waarna het omgezet wordt naar een PIL-Image (een python package). Dit wordt dan geresized naar een 32x32 figuur. Ten slotte wordt dit omgezet naar een 1D-array \n",
    "    * Schrijf een udf om de filename in de image.origin kolom om te zetten naar 1 van de labels: 'muffin' of 'chihuahua'\n",
    "* Na het uitvoeren van de udf's zou je een dataframe moeten hebben met minstens 2 kolommen: het label als string kolom, de data als een vector kolom\n",
    "* Splits de data in een trainings en testset\n",
    "* Voer de volgende preprocessing stappen uit\n",
    "    * Zet de tekstuele labels om naar integers\n",
    "    * Schaal de vector-kolom door elke waarde te delen door 255 zodat de pixel-waarden in de range 0-255 vallen\n",
    "    * Zorg ervoor dat dit in een pipeline zit en fit de preprocessor al eens. Print het schema en een aantal rijen uit om de output te verifieren\n",
    "* Voer data modelling uit\n",
    "    * Zorg voor dimensionality reduction aan de hand van PCA\n",
    "    * Gebruik logistische regressie om het label te voorspellen\n",
    "* Evalueer het model door een confusion matrix te berekenen"
   ]
  },
  {
   "cell_type": "code",
   "execution_count": null,
   "id": "2f7891fe-0831-4a84-ab0e-65ed1fca2ac3",
   "metadata": {},
   "outputs": [],
   "source": []
  },
  {
   "cell_type": "markdown",
   "id": "3d657168-fc7a-4651-a6a1-f6c110160eda",
   "metadata": {},
   "source": [
    "## Oefening - classificatie\n",
    "\n",
    "Voer de volgende stappen uit, volg de best-practices van het data science vak:\n",
    "* Genereer een dataset met de make_classification functie van Scikit-Learn (of gebruik randomSplit op een bestaande dataset in PySpark).\n",
    "* Converteer de dataset naar een PySpark DataFrame.\n",
    "* Voer basisverkenning uit: toon het schema van de data, bekijk de eerste rijen, en controleer de kolomtypes.\n",
    "* Gebruik VectorAssembler om alle features in één vector-kolom (features) te combineren.\n",
    "* Controleer de structuur van de output.\n",
    "* Train een Logistic Regression model op de gegenereerde dummy data.\n",
    "* Gebruik een training/test split van 80/20.\n",
    "* Evalueer het model door de nauwkeurigheid (accuracy) te berekenen."
   ]
  },
  {
   "cell_type": "code",
   "execution_count": null,
   "id": "230b2aca-c84b-4077-b84a-4474974f2250",
   "metadata": {},
   "outputs": [],
   "source": []
  },
  {
   "cell_type": "markdown",
   "id": "83900803-722e-4cf2-b123-bbaaa9fab236",
   "metadata": {},
   "source": [
    "## Oefening - hyperparameter tuning\n",
    "\n",
    "Voer de volgende stappen uit, volg de best-practices van het data science vak:\n",
    "* Genereer dummy data (of gebruik bestaande data) om een regressieprobleem op te lossen. (make_regression)\n",
    "* Bouw een pipeline die de data voorbereidt door schaling uit te voeren, een RandomForest-model traint, en de beste hyperparameters selecteert. (Tip: ParamGridBuilder)\n",
    "* Voer hyperparameter tuning uit en evalueer de prestaties van het beste model."
   ]
  },
  {
   "cell_type": "code",
   "execution_count": null,
   "id": "0977b6e7-449f-4126-9fe8-89da6a101d71",
   "metadata": {},
   "outputs": [],
   "source": []
  }
 ],
 "metadata": {
  "kernelspec": {
   "display_name": "Python 3 (ipykernel)",
   "language": "python",
   "name": "python3"
  },
  "language_info": {
   "codemirror_mode": {
    "name": "ipython",
    "version": 3
   },
   "file_extension": ".py",
   "mimetype": "text/x-python",
   "name": "python",
   "nbconvert_exporter": "python",
   "pygments_lexer": "ipython3",
   "version": "3.10.12"
  }
 },
 "nbformat": 4,
 "nbformat_minor": 5
}
