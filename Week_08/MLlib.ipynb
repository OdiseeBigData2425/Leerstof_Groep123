{
 "cells": [
  {
   "cell_type": "markdown",
   "id": "7a82620d",
   "metadata": {},
   "source": [
    "# MLlib\n",
    "\n",
    "Spark biedt ook een framework aan voor MachineLearning modellen te trainen op gedistribueerde datasets.\n",
    "Dit framework is MLlib of ook wel sparkML genoemd.\n",
    "De code om te werken met deze package is sterk gelijkaardig aan sklearn.\n",
    "De API en een uitgebreide documentatie met voorbeeldcode kan je [hier](https://spark.apache.org/docs/latest/ml-guide.html) vinden.\n",
    "\n",
    "Deze package bied de volgende tools aan\n",
    "* ML-technieken: classificatie, regressie, clustering, ...\n",
    "* Features: Extracting en transforming van features, PCA, ...\n",
    "* Pipelines: Maak, train, optimaliseer en evalueer pipelines\n",
    "* Persistentie: Bewaar en laden van algoritmes/modellen\n",
    "* Databeheer: Algebra tools, statistieken, null-waarden, ...\n",
    "\n",
    "Let op dat er twee API's aangeboden worden, 1 gebaseerd op RDD's en 1 op DataFrames.\n",
    "De API gebaseerd op RDD's is ouder en minder flexibel dan de API gebruik makend van DataFrames.\n",
    "Momenteel werken ze allebei maar in de toekomst zou de RDD gebaseerde kunnen verdwijnen.\n",
    "\n",
    "## Utilities\n",
    "\n",
    "### Varianten voor numpy-arrays\n",
    "\n",
    "Voor feature sets en volledige matrices van datasets aan te maken kan je gebruik maken van de Vector en Matrix klassen.\n",
    "Deze beschikken over een Dense variant waar je elk element moet ingeven of een Sparse Variant waar cellen, elementen leeg kan laten.\n",
    "Dit ziet er als volgt uit:"
   ]
  },
  {
   "cell_type": "code",
   "execution_count": 1,
   "id": "5ef759da",
   "metadata": {},
   "outputs": [
    {
     "name": "stderr",
     "output_type": "stream",
     "text": [
      "Setting default log level to \"WARN\".\n",
      "To adjust logging level use sc.setLogLevel(newLevel). For SparkR, use setLogLevel(newLevel).\n",
      "25/05/08 06:59:57 WARN NativeCodeLoader: Unable to load native-hadoop library for your platform... using builtin-java classes where applicable\n"
     ]
    }
   ],
   "source": [
    "from pyspark.sql import SparkSession\n",
    "\n",
    "spark = SparkSession.builder.appName(\"MLLib intro\").getOrCreate()"
   ]
  },
  {
   "cell_type": "code",
   "execution_count": 2,
   "id": "d8693edb-b884-4190-a75a-500cbf55644e",
   "metadata": {},
   "outputs": [
    {
     "name": "stdout",
     "output_type": "stream",
     "text": [
      "DenseMatrix([[ 0.,  4.,  8., 12.],\n",
      "             [ 1.,  5.,  9., 13.],\n",
      "             [ 2.,  6., 10., 14.],\n",
      "             [ 3.,  7., 11., 15.]])\n"
     ]
    }
   ],
   "source": [
    "from pyspark.ml.linalg import Vectors, Matrices\n",
    "\n",
    "data = Vectors.sparse(4, (0, 1.0), (2, 1.0))\n",
    "data = Vectors.dense([1.0, 0.0, 1.0, 0.0]) # zelfde vector als hierboven\n",
    "data = Matrices.dense(4,4, range(16))\n",
    "print(data)"
   ]
  },
  {
   "cell_type": "markdown",
   "id": "d0143ac7",
   "metadata": {},
   "source": [
    "Het is belangrijk om te weten dat dit locale datastructuren (wrapper rond numpy array) zijn en geen gedistribueerde objecten."
   ]
  },
  {
   "cell_type": "markdown",
   "id": "36f5676b",
   "metadata": {},
   "source": [
    "### Statistieken\n",
    "\n",
    "Voor er kan gewerkt worden met statistieken moeten we (net zoals bij pandas) eerst een dataset hebben.\n",
    "Hieronder maken we een random dataframe aan van 50 rijen en 4 kolommen."
   ]
  },
  {
   "cell_type": "code",
   "execution_count": 7,
   "id": "91673fc0",
   "metadata": {},
   "outputs": [
    {
     "name": "stdout",
     "output_type": "stream",
     "text": [
      "[Row(_1=0.6923735011548775, _2=0.8566516404434346, _3=0.38898964799624125, _4=0.4146392116026095), Row(_1=0.3006456031525676, _2=0.6449957295745641, _3=0.8049665733988637, _4=0.7778958276334631), Row(_1=0.5961757789608558, _2=0.5627378050860062, _3=0.5640662118309633, _4=0.5611372562837672), Row(_1=0.9963077651043213, _2=0.6413155459143532, _3=0.8089928114531848, _4=0.028666595288168506), Row(_1=0.6068209371137967, _2=0.9933846956559048, _3=0.7214361528181714, _4=0.3855334877022376)]\n",
      "+-------+-------------------+--------------------+--------------------+--------------------+\n",
      "|summary|                 _1|                  _2|                  _3|                  _4|\n",
      "+-------+-------------------+--------------------+--------------------+--------------------+\n",
      "|  count|                 50|                  50|                  50|                  50|\n",
      "|   mean| 0.5650113183106451|   0.513957360985025|  0.5113038509764116|  0.4469958822649707|\n",
      "| stddev| 0.2667521082280384|  0.2785738381112974|  0.2931193774922719| 0.29949033480392945|\n",
      "|    min|0.06449437882250553|0.023997855420569203|0.003104816019747325|0.012952057438114895|\n",
      "|    25%|0.35186351605820476| 0.30430268641985014| 0.29818920353226563| 0.18896889603910283|\n",
      "|    50%| 0.5961757789608558|  0.5007755248329127|  0.4543437961415562|  0.4146392116026095|\n",
      "|    75%| 0.7860195542416596|  0.7339255457426218|  0.7744499698379007|  0.6516763013073287|\n",
      "|    max| 0.9963077651043213|  0.9933846956559048|   0.988416086355417|  0.9848219428953131|\n",
      "+-------+-------------------+--------------------+--------------------+--------------------+\n",
      "\n"
     ]
    },
    {
     "name": "stderr",
     "output_type": "stream",
     "text": [
      "                                                                                \r"
     ]
    }
   ],
   "source": [
    "from pyspark.mllib.random import RandomRDDs\n",
    "sc = spark.sparkContext\n",
    "\n",
    "# maak wat random data aan (50 rijen en 4 kolommen)\n",
    "data = RandomRDDs.uniformVectorRDD(sc, 50, 4).map(lambda a: a.tolist()).toDF()\n",
    "print(data.head(5))\n",
    "data.summary().show()\n"
   ]
  },
  {
   "cell_type": "markdown",
   "id": "e5c3fad4",
   "metadata": {},
   "source": [
    "**Correlation matrix**\n",
    "\n",
    "Buiten de statistieken die berekend kunnen worden door de summary() functie kan ook de correlatiematrix belangrijk zijn.\n",
    "Deze matrix maakt het mogelijk om het verband tussen de verscheidene features te bestuderen.\n",
    "Deze matrix kan als volgt berekend worden voor een gedistribueerd dataframe."
   ]
  },
  {
   "cell_type": "code",
   "execution_count": 10,
   "id": "f4b6287f",
   "metadata": {},
   "outputs": [
    {
     "name": "stdout",
     "output_type": "stream",
     "text": [
      "+-------------------+--------------------+-------------------+--------------------+--------------------+\n",
      "|                 _1|                  _2|                 _3|                  _4|              vector|\n",
      "+-------------------+--------------------+-------------------+--------------------+--------------------+\n",
      "| 0.6923735011548775|  0.8566516404434346|0.38898964799624125|  0.4146392116026095|[0.69237350115487...|\n",
      "| 0.3006456031525676|  0.6449957295745641| 0.8049665733988637|  0.7778958276334631|[0.30064560315256...|\n",
      "| 0.5961757789608558|  0.5627378050860062| 0.5640662118309633|  0.5611372562837672|[0.59617577896085...|\n",
      "| 0.9963077651043213|  0.6413155459143532| 0.8089928114531848|0.028666595288168506|[0.99630776510432...|\n",
      "| 0.6068209371137967|  0.9933846956559048| 0.7214361528181714|  0.3855334877022376|[0.60682093711379...|\n",
      "| 0.4745116448116551|  0.4829454889389445| 0.7488223144052799|  0.3076219786488289|[0.47451164481165...|\n",
      "|0.09178104049249336|  0.1217772461580291| 0.5830332244802302| 0.19662722337152783|[0.09178104049249...|\n",
      "| 0.9899935297545309|  0.6254467633943565| 0.3896513169142426|  0.2221123606580584|[0.98999352975453...|\n",
      "|0.17585751240119496|  0.5452525166517469| 0.4504313485832293|  0.9176198967492584|[0.17585751240119...|\n",
      "|0.09257945162489545| 0.48997025938127947|0.39920694207614404|  0.9848219428953131|[0.09257945162489...|\n",
      "| 0.2684885540457824|  0.3321990327606752| 0.6462920666642263| 0.06662266162031882|[0.26848855404578...|\n",
      "| 0.7537905579830605|  0.6387634582581156| 0.3131229670536285| 0.34157591126779896|[0.75379055798306...|\n",
      "| 0.8675712703494347|0.035379458108955486| 0.7111907246473702|  0.4742893301834792|[0.86757127034943...|\n",
      "|0.21080633823118788|  0.8565639093789568|0.29818920353226563|  0.5405469221899636|[0.21080633823118...|\n",
      "| 0.5949668013296379| 0.07916218206569514| 0.5205691365803858| 0.11038305227972223|[0.59496680132963...|\n",
      "|0.35186351605820476| 0.18315360714584394| 0.7546567163644796|  0.5069732304694051|[0.35186351605820...|\n",
      "|0.47928854781180297|  0.9317371984489696| 0.3462319668154904| 0.18032263112653124|[0.47928854781180...|\n",
      "| 0.8790207311650757| 0.45243867255116654|0.19617670949285915|  0.6516763013073287|[0.87902073116507...|\n",
      "|  0.868511834438251|  0.6448173635247078| 0.7257802389971515|  0.4304303858091282|[0.86851183443825...|\n",
      "| 0.6122175092456015|  0.6542947549232352|0.32108770515634166|  0.9550728099546519|[0.61221750924560...|\n",
      "+-------------------+--------------------+-------------------+--------------------+--------------------+\n",
      "only showing top 20 rows\n",
      "\n",
      "+--------------------+\n",
      "|     pearson(vector)|\n",
      "+--------------------+\n",
      "|1.0              ...|\n",
      "+--------------------+\n",
      "\n"
     ]
    },
    {
     "data": {
      "text/plain": [
       "array([ 1.        , -0.01763239,  0.21089861, -0.21264896, -0.01763239,\n",
       "        1.        , -0.05987249, -0.04682253,  0.21089861, -0.05987249,\n",
       "        1.        ,  0.09710416, -0.21264896, -0.04682253,  0.09710416,\n",
       "        1.        ])"
      ]
     },
     "execution_count": 10,
     "metadata": {},
     "output_type": "execute_result"
    }
   ],
   "source": [
    "from pyspark.ml.stat import Correlation\n",
    "from pyspark.ml.feature import VectorAssembler\n",
    "\n",
    "assembler = VectorAssembler(inputCols=data.columns, outputCol='vector')\n",
    "df = assembler.transform(data)\n",
    "df.show()\n",
    "\n",
    "df_corr = Correlation.corr(df, 'vector')\n",
    "df_corr.show() # lastig om te interpreteren\n",
    "df_corr.collect()[0][0].values"
   ]
  },
  {
   "cell_type": "markdown",
   "id": "3e0084e1",
   "metadata": {},
   "source": [
    "**Onafhankelijksheidtest**\n",
    "\n",
    "Naast de correlatiematrix kan het ook belangrijk zijn om de onafhankelijkheid te testen tussen elke feature en een label.\n",
    "Dit kan uitgevoerd worden door een zogenaamde ChiSquareTest.\n",
    "Deze krijgt als input een dataframe, de naam van de kolom met de features (als vectors) en de naam van een kolom met de labels.\n",
    "We kunnen deze test uitvoeren als volgt:"
   ]
  },
  {
   "cell_type": "code",
   "execution_count": 14,
   "id": "8412ba8d",
   "metadata": {},
   "outputs": [
    {
     "name": "stdout",
     "output_type": "stream",
     "text": [
      "+------------+-------------------+----------------+-----------------+\n",
      "|featureIndex|             pValue|degreesOfFreedom|        statistic|\n",
      "+------------+-------------------+----------------+-----------------+\n",
      "|           0| 0.4334366972557635|              49|50.00000000000005|\n",
      "|           1|0.43343669725575984|              49|50.00000000000004|\n",
      "|           2|0.43343669725575984|              49|50.00000000000004|\n",
      "|           3|0.43343669725575984|              49|50.00000000000004|\n",
      "+------------+-------------------+----------------+-----------------+\n",
      "\n"
     ]
    }
   ],
   "source": [
    "import pyspark.sql.functions as f\n",
    "from pyspark.ml.stat import ChiSquareTest\n",
    "\n",
    "df = df.withColumn('label', f.when(f.rand() > 0.5, 1).otherwise(0))\n",
    "\n",
    "ChiSquareTest.test(df, 'vector', 'label', flatten=True).show()\n"
   ]
  },
  {
   "cell_type": "markdown",
   "id": "46bd5dd5-04ea-435c-a33b-e1fdeea81e84",
   "metadata": {},
   "source": [
    "De Chi-square test wordt op de volgende manieren gebruikt in Machine Learning:\n",
    "* Feature selectie: Identificeer welke features een significante relatie hebben met de targetvariabele.\n",
    "* Correlatie tussen categorische variabelen: Evalueer de afhankelijkheid tussen twee categorische variabelen.\n",
    "\n",
    "De Chi-square test vergelijkt de verwachte en werkelijke frequenties van waarden in de categorieën van een feature ten opzichte van de targetvariabele. Het doel is om te bepalen of de verschillen tussen deze frequenties statistisch significant zijn of niet. Een hoge Chi-square score betekent dat er een grote afhankelijkheid is tussen de feature en de target, wat suggereert dat de feature nuttig is voor voorspellingen.\n",
    "Als de p-waarde kleiner is dan een vooraf bepaald significantieniveau (bijvoorbeeld 0,05), verwerp je de nullhypothese (dat er geen relatie is), wat betekent dat de feature relevant is."
   ]
  },
  {
   "cell_type": "markdown",
   "id": "e3640d89",
   "metadata": {},
   "source": [
    "**Summarizer**\n",
    "\n",
    "Andere statistieken per kolom kunnen berekend worden door gebruik te maken van de Summarizer klasse:"
   ]
  },
  {
   "cell_type": "code",
   "execution_count": 19,
   "id": "3c81a515",
   "metadata": {},
   "outputs": [
    {
     "name": "stdout",
     "output_type": "stream",
     "text": [
      "+-----------------------------------------------------------------------------------------------------------------------------------------------------------------+\n",
      "|aggregate_metrics(vector, 1.0)                                                                                                                                   |\n",
      "+-----------------------------------------------------------------------------------------------------------------------------------------------------------------+\n",
      "|{[0.5650113183106451,0.513957360985025,0.5113038509764116,0.44699588226497067], 50, [0.9963077651043213,0.9933846956559048,0.988416086355417,0.9848219428953131]}|\n",
      "+-----------------------------------------------------------------------------------------------------------------------------------------------------------------+\n",
      "\n"
     ]
    }
   ],
   "source": [
    "from pyspark.ml.stat import Summarizer\n",
    "\n",
    "summarizer = Summarizer.metrics('mean', 'count', 'max')\n",
    "df.select(summarizer.summary(df.vector)).show(truncate=False)"
   ]
  },
  {
   "cell_type": "markdown",
   "id": "ac099f10",
   "metadata": {},
   "source": [
    "Het gebruik maken van de Summarizer maakt het dus mogelijk om rechtstreeks op de feature vectors te werken zonder ze eerst terug te moeten splitsen."
   ]
  },
  {
   "cell_type": "markdown",
   "id": "fa4e0343",
   "metadata": {},
   "source": [
    "### Pipelines\n",
    "\n",
    "Pipelines binnen Spark zijn een groep van high-level API's steunend op Dataframes om ML-pipelines aan te maken, optimaliseren en trainen.\n",
    "De belangrijkste concepten binnen de Pipelines van Spark zijn:\n",
    "* Dataframe: concept van de dataset\n",
    "* Transformer: Zet een dataframe om in een ander dataframe\n",
    "* Estimator: Zet een dataframe om in een model/transformer\n",
    "* Pipeline: een ketting van transformers en estimators om een flow vast te leggen\n",
    "* Parameter: API voor parameters van transformers en estimators aan te passen\n",
    "\n",
    "Gebruik nu onderstaande mini-dataset waar we op basis van een tekstkolom met logistische regressie een bepaald label proberen te voorspellen.\n",
    "Maak hiervoor een Pipeline uit die bestaat uit de volgende stappen:\n",
    "* Tokenizer om de tekstkolom te splitsen in de overeenkomstige woorden\n",
    "* HashingTf om de term frequency van de woorden te bepalen en het om te zetten naar een feature vector\n",
    "* LogisticRegression Estimator om de voorspelling te doen.\n",
    "\n",
    "Train daarna deze pipeline en maak de voorspellingen voor de traningsdata.\n",
    "Hoe accuraat is dit model?"
   ]
  },
  {
   "cell_type": "code",
   "execution_count": 29,
   "id": "5bf87b9e",
   "metadata": {},
   "outputs": [
    {
     "name": "stdout",
     "output_type": "stream",
     "text": [
      "+---+--------------------+-----+--------------------+--------------------+--------------------+--------------------+----------+\n",
      "| id|                text|label|              tokens|            features|       rawPrediction|         probability|prediction|\n",
      "+---+--------------------+-----+--------------------+--------------------+--------------------+--------------------+----------+\n",
      "|  0|dit is een stukje...|  1.0|[dit, is, een, st...|(262144,[53374,93...|[-7.0090024438898...|[9.02893686241666...|       1.0|\n",
      "|  1|het is zo warm de...|  0.0|[het, is, zo, war...|(262144,[34996,10...|[6.43914122940283...|[0.99840477060621...|       0.0|\n",
      "|  2|     spark is zo tof|  1.0|[spark, is, zo, tof]|(262144,[67406,10...|[-6.0958785077743...|[0.00224707006141...|       1.0|\n",
      "|  3|ik maak veel oefe...|  0.0|[ik, maak, veel, ...|(262144,[67494,10...|[6.49357045919564...|[0.99848914936497...|       0.0|\n",
      "+---+--------------------+-----+--------------------+--------------------+--------------------+--------------------+----------+\n",
      "\n",
      "+---+--------------------+-----+--------------------+--------------------+--------------------+--------------------+----------+\n",
      "| id|                text|label|              tokens|            features|       rawPrediction|         probability|prediction|\n",
      "+---+--------------------+-----+--------------------+--------------------+--------------------+--------------------+----------+\n",
      "|  0|dit is een stukje...|  1.0|[dit, is, een, st...|(262144,[53374,93...|[-7.0090024438898...|[9.02893686241666...|       1.0|\n",
      "|  1|het is zo warm de...|  0.0|[het, is, zo, war...|(262144,[34996,10...|[6.43914122940283...|[0.99840477060621...|       0.0|\n",
      "|  2|     spark is zo tof|  1.0|[spark, is, zo, tof]|(262144,[67406,10...|[-6.0958785077743...|[0.00224707006141...|       1.0|\n",
      "|  3|ik maak veel oefe...|  0.0|[ik, maak, veel, ...|(262144,[67494,10...|[6.49357045919564...|[0.99848914936497...|       0.0|\n",
      "+---+--------------------+-----+--------------------+--------------------+--------------------+--------------------+----------+\n",
      "\n"
     ]
    }
   ],
   "source": [
    "from pyspark.ml.classification import LogisticRegression\n",
    "from pyspark.ml.feature import HashingTF, Tokenizer\n",
    "from pyspark.ml import Pipeline\n",
    "\n",
    "df = spark.createDataFrame([\n",
    "    (0, 'dit is een stukje spark code', 1.0),\n",
    "    (1, 'het is zo warm deze week pfff', 0.0),\n",
    "    (2, 'spark is zo tof', 1.0),\n",
    "    (3, 'ik maak veel oefeningen', 0.0)\n",
    "], ['id', 'text', 'label'])\n",
    "\n",
    "tokenizer = Tokenizer(inputCol='text', outputCol='tokens')\n",
    "hashingTF = HashingTF(inputCol=tokenizer.getOutputCol(), outputCol='features') # je kan de inputCol zelf typen of opvragen\n",
    "logistic = LogisticRegression(maxIter=10, regParam=0.001) # featres default in features kolom, labels in label kolom\n",
    "\n",
    "df_prep = hashingTF.transform(tokenizer.transform(df))\n",
    "model = logistic.fit(df_prep)\n",
    "model.transform(df_prep).show()\n",
    "\n",
    "pipeline = Pipeline(stages=[tokenizer, hashingTF, logistic])\n",
    "model = pipeline.fit(df)\n",
    "predictions = model.transform(df)\n",
    "predictions.show() # hier kan ik df gebruiken want de tokenizer en hashingTF zijn aanwezig in de pielinemodel"
   ]
  },
  {
   "cell_type": "markdown",
   "id": "0d7e7af8",
   "metadata": {},
   "source": [
    "### Evalueren van een model\n",
    "\n",
    "In de pyspark.ml package zitten er ook functionaliteiten voor deze modellen te evalueren.\n",
    "Meer informatie hierover vind je [hier](https://spark.apache.org/docs/2.2.0/mllib-evaluation-metrics.html)."
   ]
  },
  {
   "cell_type": "code",
   "execution_count": 30,
   "id": "dd4bd140",
   "metadata": {},
   "outputs": [
    {
     "data": {
      "text/plain": [
       "1.0"
      ]
     },
     "execution_count": 30,
     "metadata": {},
     "output_type": "execute_result"
    }
   ],
   "source": [
    "from pyspark.ml.evaluation import BinaryClassificationEvaluator\n",
    "\n",
    "evaluator = BinaryClassificationEvaluator()\n",
    "evaluator.evaluate(predictions)"
   ]
  },
  {
   "cell_type": "markdown",
   "id": "0a305ea2",
   "metadata": {},
   "source": [
    "### Data sources\n",
    "\n",
    "Door gebruik te maken van de sparkContext kunnen een reeks standaard databronnen ingelezen worden om datasets uit op te bouwen (Csv, Json, ...).\n",
    "Daarnaast is het ook mogelijk om een folder met een reeks beelden te gebruiken als dataset om zo een model voor image classification te trainen.\n",
    "Download nu [deze](https://www.kaggle.com/returnofsputnik/chihuahua-or-muffin) dataset en upload ze naar een folder op het hadoop filesysteem."
   ]
  },
  {
   "cell_type": "code",
   "execution_count": 31,
   "id": "7992c49c",
   "metadata": {},
   "outputs": [
    {
     "name": "stdout",
     "output_type": "stream",
     "text": [
      "Skipping, found downloaded files in \"./chihuahua-or-muffin\" (use force=True to force download)\n"
     ]
    }
   ],
   "source": [
    "import opendatasets as od\n",
    "\n",
    "od.download(\"https://www.kaggle.com/returnofsputnik/chihuahua-or-muffin\")"
   ]
  },
  {
   "cell_type": "code",
   "execution_count": 32,
   "id": "62e4f42a-ffec-4f23-8b48-ccd3c2a043d1",
   "metadata": {},
   "outputs": [
    {
     "data": {
      "text/plain": [
       "'/user/bigdata/MLLib/chihuahua-or-muffin'"
      ]
     },
     "execution_count": 32,
     "metadata": {},
     "output_type": "execute_result"
    }
   ],
   "source": [
    "from hdfs import InsecureClient\n",
    "\n",
    "client = InsecureClient('http://localhost:9870', user='bigdata')\n",
    "map = \"/user/bigdata/MLLib\"\n",
    "\n",
    "if client.status(map, strict=False) is None:\n",
    "    client.makedirs(map)\n",
    "else:\n",
    "    # do some cleaning in case anything else than *.txt is present\n",
    "    for f in client.list(map):\n",
    "        client.delete(map + '/' + f, recursive=True)\n",
    "\n",
    "client.upload(map, 'chihuahua-or-muffin')"
   ]
  },
  {
   "cell_type": "markdown",
   "id": "70542e14",
   "metadata": {},
   "source": [
    "De geuploade images kunnen nu ingelezen worden als volgt:"
   ]
  },
  {
   "cell_type": "code",
   "execution_count": 3,
   "id": "ad93c3d8",
   "metadata": {},
   "outputs": [
    {
     "name": "stderr",
     "output_type": "stream",
     "text": [
      "                                                                                \r"
     ]
    },
    {
     "name": "stdout",
     "output_type": "stream",
     "text": [
      "+--------------------+\n",
      "|               image|\n",
      "+--------------------+\n",
      "|{hdfs://namenode:...|\n",
      "|{hdfs://namenode:...|\n",
      "|{hdfs://namenode:...|\n",
      "|{hdfs://namenode:...|\n",
      "|{hdfs://namenode:...|\n",
      "|{hdfs://namenode:...|\n",
      "|{hdfs://namenode:...|\n",
      "|{hdfs://namenode:...|\n",
      "|{hdfs://namenode:...|\n",
      "|{hdfs://namenode:...|\n",
      "|{hdfs://namenode:...|\n",
      "|{hdfs://namenode:...|\n",
      "|{hdfs://namenode:...|\n",
      "|{hdfs://namenode:...|\n",
      "|{hdfs://namenode:...|\n",
      "|{hdfs://namenode:...|\n",
      "+--------------------+\n",
      "\n",
      "+---------------------------------------------------------------------------+-----+\n",
      "|origin                                                                     |width|\n",
      "+---------------------------------------------------------------------------+-----+\n",
      "|hdfs://namenode:9000/user/bigdata/MLLib/chihuahua-or-muffin/muffin-4.jpeg  |172  |\n",
      "|hdfs://namenode:9000/user/bigdata/MLLib/chihuahua-or-muffin/muffin-7.jpeg  |171  |\n",
      "|hdfs://namenode:9000/user/bigdata/MLLib/chihuahua-or-muffin/muffin-1.jpeg  |171  |\n",
      "|hdfs://namenode:9000/user/bigdata/MLLib/chihuahua-or-muffin/muffin-8.jpeg  |172  |\n",
      "|hdfs://namenode:9000/user/bigdata/MLLib/chihuahua-or-muffin/chihuahua-6.jpg|172  |\n",
      "|hdfs://namenode:9000/user/bigdata/MLLib/chihuahua-or-muffin/chihuahua-8.jpg|168  |\n",
      "|hdfs://namenode:9000/user/bigdata/MLLib/chihuahua-or-muffin/muffin-6.jpeg  |168  |\n",
      "|hdfs://namenode:9000/user/bigdata/MLLib/chihuahua-or-muffin/chihuahua-5.jpg|171  |\n",
      "|hdfs://namenode:9000/user/bigdata/MLLib/chihuahua-or-muffin/muffin-2.jpeg  |168  |\n",
      "|hdfs://namenode:9000/user/bigdata/MLLib/chihuahua-or-muffin/muffin-5.jpeg  |171  |\n",
      "|hdfs://namenode:9000/user/bigdata/MLLib/chihuahua-or-muffin/muffin-3.jpeg  |171  |\n",
      "|hdfs://namenode:9000/user/bigdata/MLLib/chihuahua-or-muffin/chihuahua-3.jpg|171  |\n",
      "|hdfs://namenode:9000/user/bigdata/MLLib/chihuahua-or-muffin/chihuahua-4.jpg|168  |\n",
      "|hdfs://namenode:9000/user/bigdata/MLLib/chihuahua-or-muffin/chihuahua-7.jpg|171  |\n",
      "|hdfs://namenode:9000/user/bigdata/MLLib/chihuahua-or-muffin/chihuahua-1.jpg|171  |\n",
      "|hdfs://namenode:9000/user/bigdata/MLLib/chihuahua-or-muffin/chihuahua-2.jpg|172  |\n",
      "+---------------------------------------------------------------------------+-----+\n",
      "\n"
     ]
    }
   ],
   "source": [
    "df = spark.read.format('image').option('dropInvalid', True).load('/user/bigdata/MLLib/chihuahua-or-muffin')\n",
    "df.show()\n",
    "df.select('image.origin', 'image.width').show(truncate=False)"
   ]
  },
  {
   "cell_type": "markdown",
   "id": "91a67bf4",
   "metadata": {},
   "source": [
    "Merk op dat het werken met images niet zo eenvoudig is.\n",
    "Hiervoor wordt binnen pyspark typisch gebruik gemaakt van de [sparkdl](https://smurching.github.io/spark-deep-learning/site/api/python/sparkdl.html) package.\n",
    "Hierbij staat de dl voor deep learning.\n",
    "Aangezien dit ons momenteel te ver leidt ga ik dit niet verder toelichten."
   ]
  },
  {
   "cell_type": "markdown",
   "id": "b0e4b653",
   "metadata": {},
   "source": [
    "Een andere aparte databron die eenvoudig ingelezen kan worden is het formaat \"libsvm\".\n",
    "Een bestand van dit formaat wordt ingelezen als een dataframe met twee kolommen: een label en een kolom met de feature-vectors.\n",
    "De code om dergelijk bestand in te laden is:"
   ]
  },
  {
   "cell_type": "code",
   "execution_count": null,
   "id": "ee23edf2",
   "metadata": {},
   "outputs": [],
   "source": [
    "spark.read.format('libsvm').load('{path to file}')"
   ]
  },
  {
   "cell_type": "markdown",
   "id": "4baaeb6d-3fcf-4300-b25e-500cb5109c0d",
   "metadata": {},
   "source": [
    "## Voorbeeld\n",
    "\n",
    "Train en evalueer een machine learning model dat beeldgegevens kan classificeren, gebaseerd op eigenschappen zoals hoogte, breedte en aantal kanalen. Omdat MLlib geen directe ondersteuning biedt voor beelddata, zullen we enkele numerieke eigenschappen van de afbeeldingen gebruiken en pipelines opzetten voor preprocessing en training.\n",
    "Hierbij ga je verder werken op het dataframe van de chichuahua of muffin dataset van hierboven.\n",
    "\n",
    "Voer de volgende stappen uit:\n",
    "* Data decoderen en omzetten naar een dataframe dat door ML-kan gebruikt worden.\n",
    "    * Schrijf een udf om de image.data kolom om te zetten naar een vector. Gebruik hiervoor een udf dat dit eerst omzet naar een numpy array waarna het omgezet wordt naar een PIL-Image (een python package). Dit wordt dan geresized naar een 32x32 figuur. Ten slotte wordt dit omgezet naar een 1D-array \n",
    "    * Schrijf een udf om de filename in de image.origin kolom om te zetten naar 1 van de labels: 'muffin' of 'chihuahua'\n",
    "* Na het uitvoeren van de udf's zou je een dataframe moeten hebben met minstens 2 kolommen: het label als string kolom, de data als een vector kolom\n",
    "* Splits de data in een trainings en testset\n",
    "* Voer de volgende preprocessing stappen uit\n",
    "    * Zet de tekstuele labels om naar integers\n",
    "    * Schaal de vector-kolom door elke waarde te delen door 255 zodat de pixel-waarden in de range 0-255 vallen\n",
    "    * Zorg ervoor dat dit in een pipeline zit en fit de preprocessor al eens. Print het schema en een aantal rijen uit om de output te verifieren\n",
    "* Voer data modelling uit\n",
    "    * Zorg voor dimensionality reduction aan de hand van PCA\n",
    "    * Gebruik logistische regressie om het label te voorspellen\n",
    "* Evalueer het model door een confusion matrix te berekenen"
   ]
  },
  {
   "cell_type": "code",
   "execution_count": 13,
   "id": "2f7891fe-0831-4a84-ab0e-65ed1fca2ac3",
   "metadata": {},
   "outputs": [
    {
     "name": "stdout",
     "output_type": "stream",
     "text": [
      "root\n",
      " |-- image: struct (nullable = true)\n",
      " |    |-- origin: string (nullable = true)\n",
      " |    |-- height: integer (nullable = true)\n",
      " |    |-- width: integer (nullable = true)\n",
      " |    |-- nChannels: integer (nullable = true)\n",
      " |    |-- mode: integer (nullable = true)\n",
      " |    |-- data: binary (nullable = true)\n",
      "\n",
      "+--------------------+--------------------+---------+\n",
      "|              origin|                data|    label|\n",
      "+--------------------+--------------------+---------+\n",
      "|hdfs://namenode:9...|[151.0,119.0,119....|   muffin|\n",
      "|hdfs://namenode:9...|[254.0,254.0,254....|   muffin|\n",
      "|hdfs://namenode:9...|[27.0,28.0,34.0,2...|   muffin|\n",
      "|hdfs://namenode:9...|[24.0,99.0,155.0,...|   muffin|\n",
      "|hdfs://namenode:9...|[193.0,174.0,168....|chihuahua|\n",
      "|hdfs://namenode:9...|[168.0,159.0,177....|chihuahua|\n",
      "|hdfs://namenode:9...|[204.0,191.0,223....|   muffin|\n",
      "|hdfs://namenode:9...|[107.0,98.0,168.0...|chihuahua|\n",
      "|hdfs://namenode:9...|[38.0,58.0,97.0,3...|   muffin|\n",
      "|hdfs://namenode:9...|[204.0,212.0,228....|   muffin|\n",
      "|hdfs://namenode:9...|[211.0,220.0,228....|   muffin|\n",
      "|hdfs://namenode:9...|[89.0,86.0,121.0,...|chihuahua|\n",
      "|hdfs://namenode:9...|[15.0,18.0,24.0,2...|chihuahua|\n",
      "|hdfs://namenode:9...|[9.0,26.0,112.0,1...|chihuahua|\n",
      "|hdfs://namenode:9...|[25.0,72.0,128.0,...|chihuahua|\n",
      "|hdfs://namenode:9...|[69.0,131.0,131.0...|chihuahua|\n",
      "+--------------------+--------------------+---------+\n",
      "\n",
      "+--------------------+--------------------+---------+-------------+--------------------+\n",
      "|              origin|                data|    label|label_indexed|     scaled_features|\n",
      "+--------------------+--------------------+---------+-------------+--------------------+\n",
      "|hdfs://namenode:9...|[151.0,119.0,119....|   muffin|          1.0|[140.804347826086...|\n",
      "|hdfs://namenode:9...|[254.0,254.0,254....|   muffin|          1.0|[255.0,254.999999...|\n",
      "|hdfs://namenode:9...|[24.0,99.0,155.0,...|   muffin|          1.0|[0.0,37.829670329...|\n",
      "|hdfs://namenode:9...|[193.0,174.0,168....|chihuahua|          0.0|[187.369565217391...|\n",
      "|hdfs://namenode:9...|[168.0,159.0,177....|chihuahua|          0.0|[159.652173913043...|\n",
      "|hdfs://namenode:9...|[204.0,191.0,223....|   muffin|          1.0|[199.565217391304...|\n",
      "|hdfs://namenode:9...|[107.0,98.0,168.0...|chihuahua|          0.0|[92.0217391304347...|\n",
      "|hdfs://namenode:9...|[204.0,212.0,228....|   muffin|          1.0|[199.565217391304...|\n",
      "|hdfs://namenode:9...|[211.0,220.0,228....|   muffin|          1.0|[207.326086956521...|\n",
      "|hdfs://namenode:9...|[89.0,86.0,121.0,...|chihuahua|          0.0|[72.0652173913043...|\n",
      "|hdfs://namenode:9...|[25.0,72.0,128.0,...|chihuahua|          0.0|[1.10869565217391...|\n",
      "|hdfs://namenode:9...|[69.0,131.0,131.0...|chihuahua|          0.0|[49.8913043478260...|\n",
      "+--------------------+--------------------+---------+-------------+--------------------+\n",
      "\n"
     ]
    },
    {
     "name": "stderr",
     "output_type": "stream",
     "text": [
      "25/05/08 08:31:03 WARN InstanceBuilder: Failed to load implementation from:dev.ludovic.netlib.blas.JNIBLAS\n",
      "                                                                                \r"
     ]
    },
    {
     "ename": "Py4JJavaError",
     "evalue": "An error occurred while calling o789.fit.\n: java.lang.OutOfMemoryError: Java heap space\n\tat breeze.linalg.svd$.breeze$linalg$svd$$doSVD_Double(svd.scala:94)\n\tat breeze.linalg.svd$Svd_DM_Impl$.apply(svd.scala:36)\n\tat breeze.linalg.svd$Svd_DM_Impl$.apply(svd.scala:35)\n\tat breeze.generic.UFunc.apply(UFunc.scala:47)\n\tat breeze.generic.UFunc.apply$(UFunc.scala:46)\n\tat breeze.linalg.svd$.apply(svd.scala:21)\n\tat org.apache.spark.mllib.linalg.distributed.RowMatrix.computePrincipalComponentsAndExplainedVariance(RowMatrix.scala:501)\n\tat org.apache.spark.mllib.feature.PCA.fit(PCA.scala:65)\n\tat org.apache.spark.ml.feature.PCA.fit(PCA.scala:93)\n\tat org.apache.spark.ml.feature.PCA.fit(PCA.scala:64)\n\tat sun.reflect.NativeMethodAccessorImpl.invoke0(Native Method)\n\tat sun.reflect.NativeMethodAccessorImpl.invoke(NativeMethodAccessorImpl.java:62)\n\tat sun.reflect.DelegatingMethodAccessorImpl.invoke(DelegatingMethodAccessorImpl.java:43)\n\tat java.lang.reflect.Method.invoke(Method.java:498)\n\tat py4j.reflection.MethodInvoker.invoke(MethodInvoker.java:244)\n\tat py4j.reflection.ReflectionEngine.invoke(ReflectionEngine.java:374)\n\tat py4j.Gateway.invoke(Gateway.java:282)\n\tat py4j.commands.AbstractCommand.invokeMethod(AbstractCommand.java:132)\n\tat py4j.commands.CallCommand.execute(CallCommand.java:79)\n\tat py4j.ClientServerConnection.waitForCommands(ClientServerConnection.java:182)\n\tat py4j.ClientServerConnection.run(ClientServerConnection.java:106)\n\tat java.lang.Thread.run(Thread.java:750)\n",
     "output_type": "error",
     "traceback": [
      "\u001b[0;31m---------------------------------------------------------------------------\u001b[0m",
      "\u001b[0;31mPy4JJavaError\u001b[0m                             Traceback (most recent call last)",
      "Cell \u001b[0;32mIn[13], line 66\u001b[0m\n\u001b[1;32m     63\u001b[0m lr \u001b[38;5;241m=\u001b[39m LogisticRegression(featuresCol\u001b[38;5;241m=\u001b[39m\u001b[38;5;124m'\u001b[39m\u001b[38;5;124mpca_features\u001b[39m\u001b[38;5;124m'\u001b[39m, labelCol\u001b[38;5;241m=\u001b[39m\u001b[38;5;124m'\u001b[39m\u001b[38;5;124mlabel_indexed\u001b[39m\u001b[38;5;124m'\u001b[39m, maxIter\u001b[38;5;241m=\u001b[39m\u001b[38;5;241m10\u001b[39m)\n\u001b[1;32m     64\u001b[0m pipeline \u001b[38;5;241m=\u001b[39m Pipeline(stages\u001b[38;5;241m=\u001b[39m[preprocessor_model, pca, lr])\n\u001b[0;32m---> 66\u001b[0m model \u001b[38;5;241m=\u001b[39m \u001b[43mpipeline\u001b[49m\u001b[38;5;241;43m.\u001b[39;49m\u001b[43mfit\u001b[49m\u001b[43m(\u001b[49m\u001b[43mtrain_data\u001b[49m\u001b[43m)\u001b[49m\n\u001b[1;32m     67\u001b[0m predictions \u001b[38;5;241m=\u001b[39m model\u001b[38;5;241m.\u001b[39mtransform(test_data)\n\u001b[1;32m     68\u001b[0m predictions\u001b[38;5;241m.\u001b[39mshow()\n",
      "File \u001b[0;32m/usr/local/lib/python3.10/dist-packages/pyspark/ml/base.py:205\u001b[0m, in \u001b[0;36mEstimator.fit\u001b[0;34m(self, dataset, params)\u001b[0m\n\u001b[1;32m    203\u001b[0m         \u001b[38;5;28;01mreturn\u001b[39;00m \u001b[38;5;28mself\u001b[39m\u001b[38;5;241m.\u001b[39mcopy(params)\u001b[38;5;241m.\u001b[39m_fit(dataset)\n\u001b[1;32m    204\u001b[0m     \u001b[38;5;28;01melse\u001b[39;00m:\n\u001b[0;32m--> 205\u001b[0m         \u001b[38;5;28;01mreturn\u001b[39;00m \u001b[38;5;28;43mself\u001b[39;49m\u001b[38;5;241;43m.\u001b[39;49m\u001b[43m_fit\u001b[49m\u001b[43m(\u001b[49m\u001b[43mdataset\u001b[49m\u001b[43m)\u001b[49m\n\u001b[1;32m    206\u001b[0m \u001b[38;5;28;01melse\u001b[39;00m:\n\u001b[1;32m    207\u001b[0m     \u001b[38;5;28;01mraise\u001b[39;00m \u001b[38;5;167;01mTypeError\u001b[39;00m(\n\u001b[1;32m    208\u001b[0m         \u001b[38;5;124m\"\u001b[39m\u001b[38;5;124mParams must be either a param map or a list/tuple of param maps, \u001b[39m\u001b[38;5;124m\"\u001b[39m\n\u001b[1;32m    209\u001b[0m         \u001b[38;5;124m\"\u001b[39m\u001b[38;5;124mbut got \u001b[39m\u001b[38;5;132;01m%s\u001b[39;00m\u001b[38;5;124m.\u001b[39m\u001b[38;5;124m\"\u001b[39m \u001b[38;5;241m%\u001b[39m \u001b[38;5;28mtype\u001b[39m(params)\n\u001b[1;32m    210\u001b[0m     )\n",
      "File \u001b[0;32m/usr/local/lib/python3.10/dist-packages/pyspark/ml/pipeline.py:134\u001b[0m, in \u001b[0;36mPipeline._fit\u001b[0;34m(self, dataset)\u001b[0m\n\u001b[1;32m    132\u001b[0m     dataset \u001b[38;5;241m=\u001b[39m stage\u001b[38;5;241m.\u001b[39mtransform(dataset)\n\u001b[1;32m    133\u001b[0m \u001b[38;5;28;01melse\u001b[39;00m:  \u001b[38;5;66;03m# must be an Estimator\u001b[39;00m\n\u001b[0;32m--> 134\u001b[0m     model \u001b[38;5;241m=\u001b[39m \u001b[43mstage\u001b[49m\u001b[38;5;241;43m.\u001b[39;49m\u001b[43mfit\u001b[49m\u001b[43m(\u001b[49m\u001b[43mdataset\u001b[49m\u001b[43m)\u001b[49m\n\u001b[1;32m    135\u001b[0m     transformers\u001b[38;5;241m.\u001b[39mappend(model)\n\u001b[1;32m    136\u001b[0m     \u001b[38;5;28;01mif\u001b[39;00m i \u001b[38;5;241m<\u001b[39m indexOfLastEstimator:\n",
      "File \u001b[0;32m/usr/local/lib/python3.10/dist-packages/pyspark/ml/base.py:205\u001b[0m, in \u001b[0;36mEstimator.fit\u001b[0;34m(self, dataset, params)\u001b[0m\n\u001b[1;32m    203\u001b[0m         \u001b[38;5;28;01mreturn\u001b[39;00m \u001b[38;5;28mself\u001b[39m\u001b[38;5;241m.\u001b[39mcopy(params)\u001b[38;5;241m.\u001b[39m_fit(dataset)\n\u001b[1;32m    204\u001b[0m     \u001b[38;5;28;01melse\u001b[39;00m:\n\u001b[0;32m--> 205\u001b[0m         \u001b[38;5;28;01mreturn\u001b[39;00m \u001b[38;5;28;43mself\u001b[39;49m\u001b[38;5;241;43m.\u001b[39;49m\u001b[43m_fit\u001b[49m\u001b[43m(\u001b[49m\u001b[43mdataset\u001b[49m\u001b[43m)\u001b[49m\n\u001b[1;32m    206\u001b[0m \u001b[38;5;28;01melse\u001b[39;00m:\n\u001b[1;32m    207\u001b[0m     \u001b[38;5;28;01mraise\u001b[39;00m \u001b[38;5;167;01mTypeError\u001b[39;00m(\n\u001b[1;32m    208\u001b[0m         \u001b[38;5;124m\"\u001b[39m\u001b[38;5;124mParams must be either a param map or a list/tuple of param maps, \u001b[39m\u001b[38;5;124m\"\u001b[39m\n\u001b[1;32m    209\u001b[0m         \u001b[38;5;124m\"\u001b[39m\u001b[38;5;124mbut got \u001b[39m\u001b[38;5;132;01m%s\u001b[39;00m\u001b[38;5;124m.\u001b[39m\u001b[38;5;124m\"\u001b[39m \u001b[38;5;241m%\u001b[39m \u001b[38;5;28mtype\u001b[39m(params)\n\u001b[1;32m    210\u001b[0m     )\n",
      "File \u001b[0;32m/usr/local/lib/python3.10/dist-packages/pyspark/ml/wrapper.py:381\u001b[0m, in \u001b[0;36mJavaEstimator._fit\u001b[0;34m(self, dataset)\u001b[0m\n\u001b[1;32m    380\u001b[0m \u001b[38;5;28;01mdef\u001b[39;00m \u001b[38;5;21m_fit\u001b[39m(\u001b[38;5;28mself\u001b[39m, dataset: DataFrame) \u001b[38;5;241m-\u001b[39m\u001b[38;5;241m>\u001b[39m JM:\n\u001b[0;32m--> 381\u001b[0m     java_model \u001b[38;5;241m=\u001b[39m \u001b[38;5;28;43mself\u001b[39;49m\u001b[38;5;241;43m.\u001b[39;49m\u001b[43m_fit_java\u001b[49m\u001b[43m(\u001b[49m\u001b[43mdataset\u001b[49m\u001b[43m)\u001b[49m\n\u001b[1;32m    382\u001b[0m     model \u001b[38;5;241m=\u001b[39m \u001b[38;5;28mself\u001b[39m\u001b[38;5;241m.\u001b[39m_create_model(java_model)\n\u001b[1;32m    383\u001b[0m     \u001b[38;5;28;01mreturn\u001b[39;00m \u001b[38;5;28mself\u001b[39m\u001b[38;5;241m.\u001b[39m_copyValues(model)\n",
      "File \u001b[0;32m/usr/local/lib/python3.10/dist-packages/pyspark/ml/wrapper.py:378\u001b[0m, in \u001b[0;36mJavaEstimator._fit_java\u001b[0;34m(self, dataset)\u001b[0m\n\u001b[1;32m    375\u001b[0m \u001b[38;5;28;01massert\u001b[39;00m \u001b[38;5;28mself\u001b[39m\u001b[38;5;241m.\u001b[39m_java_obj \u001b[38;5;129;01mis\u001b[39;00m \u001b[38;5;129;01mnot\u001b[39;00m \u001b[38;5;28;01mNone\u001b[39;00m\n\u001b[1;32m    377\u001b[0m \u001b[38;5;28mself\u001b[39m\u001b[38;5;241m.\u001b[39m_transfer_params_to_java()\n\u001b[0;32m--> 378\u001b[0m \u001b[38;5;28;01mreturn\u001b[39;00m \u001b[38;5;28;43mself\u001b[39;49m\u001b[38;5;241;43m.\u001b[39;49m\u001b[43m_java_obj\u001b[49m\u001b[38;5;241;43m.\u001b[39;49m\u001b[43mfit\u001b[49m\u001b[43m(\u001b[49m\u001b[43mdataset\u001b[49m\u001b[38;5;241;43m.\u001b[39;49m\u001b[43m_jdf\u001b[49m\u001b[43m)\u001b[49m\n",
      "File \u001b[0;32m/usr/local/lib/python3.10/dist-packages/py4j/java_gateway.py:1322\u001b[0m, in \u001b[0;36mJavaMember.__call__\u001b[0;34m(self, *args)\u001b[0m\n\u001b[1;32m   1316\u001b[0m command \u001b[38;5;241m=\u001b[39m proto\u001b[38;5;241m.\u001b[39mCALL_COMMAND_NAME \u001b[38;5;241m+\u001b[39m\\\n\u001b[1;32m   1317\u001b[0m     \u001b[38;5;28mself\u001b[39m\u001b[38;5;241m.\u001b[39mcommand_header \u001b[38;5;241m+\u001b[39m\\\n\u001b[1;32m   1318\u001b[0m     args_command \u001b[38;5;241m+\u001b[39m\\\n\u001b[1;32m   1319\u001b[0m     proto\u001b[38;5;241m.\u001b[39mEND_COMMAND_PART\n\u001b[1;32m   1321\u001b[0m answer \u001b[38;5;241m=\u001b[39m \u001b[38;5;28mself\u001b[39m\u001b[38;5;241m.\u001b[39mgateway_client\u001b[38;5;241m.\u001b[39msend_command(command)\n\u001b[0;32m-> 1322\u001b[0m return_value \u001b[38;5;241m=\u001b[39m \u001b[43mget_return_value\u001b[49m\u001b[43m(\u001b[49m\n\u001b[1;32m   1323\u001b[0m \u001b[43m    \u001b[49m\u001b[43manswer\u001b[49m\u001b[43m,\u001b[49m\u001b[43m \u001b[49m\u001b[38;5;28;43mself\u001b[39;49m\u001b[38;5;241;43m.\u001b[39;49m\u001b[43mgateway_client\u001b[49m\u001b[43m,\u001b[49m\u001b[43m \u001b[49m\u001b[38;5;28;43mself\u001b[39;49m\u001b[38;5;241;43m.\u001b[39;49m\u001b[43mtarget_id\u001b[49m\u001b[43m,\u001b[49m\u001b[43m \u001b[49m\u001b[38;5;28;43mself\u001b[39;49m\u001b[38;5;241;43m.\u001b[39;49m\u001b[43mname\u001b[49m\u001b[43m)\u001b[49m\n\u001b[1;32m   1325\u001b[0m \u001b[38;5;28;01mfor\u001b[39;00m temp_arg \u001b[38;5;129;01min\u001b[39;00m temp_args:\n\u001b[1;32m   1326\u001b[0m     \u001b[38;5;28;01mif\u001b[39;00m \u001b[38;5;28mhasattr\u001b[39m(temp_arg, \u001b[38;5;124m\"\u001b[39m\u001b[38;5;124m_detach\u001b[39m\u001b[38;5;124m\"\u001b[39m):\n",
      "File \u001b[0;32m/usr/local/lib/python3.10/dist-packages/pyspark/errors/exceptions/captured.py:179\u001b[0m, in \u001b[0;36mcapture_sql_exception.<locals>.deco\u001b[0;34m(*a, **kw)\u001b[0m\n\u001b[1;32m    177\u001b[0m \u001b[38;5;28;01mdef\u001b[39;00m \u001b[38;5;21mdeco\u001b[39m(\u001b[38;5;241m*\u001b[39ma: Any, \u001b[38;5;241m*\u001b[39m\u001b[38;5;241m*\u001b[39mkw: Any) \u001b[38;5;241m-\u001b[39m\u001b[38;5;241m>\u001b[39m Any:\n\u001b[1;32m    178\u001b[0m     \u001b[38;5;28;01mtry\u001b[39;00m:\n\u001b[0;32m--> 179\u001b[0m         \u001b[38;5;28;01mreturn\u001b[39;00m \u001b[43mf\u001b[49m\u001b[43m(\u001b[49m\u001b[38;5;241;43m*\u001b[39;49m\u001b[43ma\u001b[49m\u001b[43m,\u001b[49m\u001b[43m \u001b[49m\u001b[38;5;241;43m*\u001b[39;49m\u001b[38;5;241;43m*\u001b[39;49m\u001b[43mkw\u001b[49m\u001b[43m)\u001b[49m\n\u001b[1;32m    180\u001b[0m     \u001b[38;5;28;01mexcept\u001b[39;00m Py4JJavaError \u001b[38;5;28;01mas\u001b[39;00m e:\n\u001b[1;32m    181\u001b[0m         converted \u001b[38;5;241m=\u001b[39m convert_exception(e\u001b[38;5;241m.\u001b[39mjava_exception)\n",
      "File \u001b[0;32m/usr/local/lib/python3.10/dist-packages/py4j/protocol.py:326\u001b[0m, in \u001b[0;36mget_return_value\u001b[0;34m(answer, gateway_client, target_id, name)\u001b[0m\n\u001b[1;32m    324\u001b[0m value \u001b[38;5;241m=\u001b[39m OUTPUT_CONVERTER[\u001b[38;5;28mtype\u001b[39m](answer[\u001b[38;5;241m2\u001b[39m:], gateway_client)\n\u001b[1;32m    325\u001b[0m \u001b[38;5;28;01mif\u001b[39;00m answer[\u001b[38;5;241m1\u001b[39m] \u001b[38;5;241m==\u001b[39m REFERENCE_TYPE:\n\u001b[0;32m--> 326\u001b[0m     \u001b[38;5;28;01mraise\u001b[39;00m Py4JJavaError(\n\u001b[1;32m    327\u001b[0m         \u001b[38;5;124m\"\u001b[39m\u001b[38;5;124mAn error occurred while calling \u001b[39m\u001b[38;5;132;01m{0}\u001b[39;00m\u001b[38;5;132;01m{1}\u001b[39;00m\u001b[38;5;132;01m{2}\u001b[39;00m\u001b[38;5;124m.\u001b[39m\u001b[38;5;130;01m\\n\u001b[39;00m\u001b[38;5;124m\"\u001b[39m\u001b[38;5;241m.\u001b[39m\n\u001b[1;32m    328\u001b[0m         \u001b[38;5;28mformat\u001b[39m(target_id, \u001b[38;5;124m\"\u001b[39m\u001b[38;5;124m.\u001b[39m\u001b[38;5;124m\"\u001b[39m, name), value)\n\u001b[1;32m    329\u001b[0m \u001b[38;5;28;01melse\u001b[39;00m:\n\u001b[1;32m    330\u001b[0m     \u001b[38;5;28;01mraise\u001b[39;00m Py4JError(\n\u001b[1;32m    331\u001b[0m         \u001b[38;5;124m\"\u001b[39m\u001b[38;5;124mAn error occurred while calling \u001b[39m\u001b[38;5;132;01m{0}\u001b[39;00m\u001b[38;5;132;01m{1}\u001b[39;00m\u001b[38;5;132;01m{2}\u001b[39;00m\u001b[38;5;124m. Trace:\u001b[39m\u001b[38;5;130;01m\\n\u001b[39;00m\u001b[38;5;132;01m{3}\u001b[39;00m\u001b[38;5;130;01m\\n\u001b[39;00m\u001b[38;5;124m\"\u001b[39m\u001b[38;5;241m.\u001b[39m\n\u001b[1;32m    332\u001b[0m         \u001b[38;5;28mformat\u001b[39m(target_id, \u001b[38;5;124m\"\u001b[39m\u001b[38;5;124m.\u001b[39m\u001b[38;5;124m\"\u001b[39m, name, value))\n",
      "\u001b[0;31mPy4JJavaError\u001b[0m: An error occurred while calling o789.fit.\n: java.lang.OutOfMemoryError: Java heap space\n\tat breeze.linalg.svd$.breeze$linalg$svd$$doSVD_Double(svd.scala:94)\n\tat breeze.linalg.svd$Svd_DM_Impl$.apply(svd.scala:36)\n\tat breeze.linalg.svd$Svd_DM_Impl$.apply(svd.scala:35)\n\tat breeze.generic.UFunc.apply(UFunc.scala:47)\n\tat breeze.generic.UFunc.apply$(UFunc.scala:46)\n\tat breeze.linalg.svd$.apply(svd.scala:21)\n\tat org.apache.spark.mllib.linalg.distributed.RowMatrix.computePrincipalComponentsAndExplainedVariance(RowMatrix.scala:501)\n\tat org.apache.spark.mllib.feature.PCA.fit(PCA.scala:65)\n\tat org.apache.spark.ml.feature.PCA.fit(PCA.scala:93)\n\tat org.apache.spark.ml.feature.PCA.fit(PCA.scala:64)\n\tat sun.reflect.NativeMethodAccessorImpl.invoke0(Native Method)\n\tat sun.reflect.NativeMethodAccessorImpl.invoke(NativeMethodAccessorImpl.java:62)\n\tat sun.reflect.DelegatingMethodAccessorImpl.invoke(DelegatingMethodAccessorImpl.java:43)\n\tat java.lang.reflect.Method.invoke(Method.java:498)\n\tat py4j.reflection.MethodInvoker.invoke(MethodInvoker.java:244)\n\tat py4j.reflection.ReflectionEngine.invoke(ReflectionEngine.java:374)\n\tat py4j.Gateway.invoke(Gateway.java:282)\n\tat py4j.commands.AbstractCommand.invokeMethod(AbstractCommand.java:132)\n\tat py4j.commands.CallCommand.execute(CallCommand.java:79)\n\tat py4j.ClientServerConnection.waitForCommands(ClientServerConnection.java:182)\n\tat py4j.ClientServerConnection.run(ClientServerConnection.java:106)\n\tat java.lang.Thread.run(Thread.java:750)\n"
     ]
    }
   ],
   "source": [
    "from pyspark.sql import functions as F\n",
    "from pyspark.sql.types import ArrayType, DoubleType, StringType\n",
    "from pyspark.ml.feature import StringIndexer, MinMaxScaler, PCA\n",
    "from pyspark.ml.classification import LogisticRegression\n",
    "from pyspark.ml import Pipeline\n",
    "from pyspark.ml.evaluation import MulticlassClassificationEvaluator\n",
    "from pyspark.mllib.evaluation import MulticlassMetrics\n",
    "from pyspark.ml.functions import array_to_vector\n",
    "from PIL import Image\n",
    "import io\n",
    "import numpy as np\n",
    "\n",
    "target_size=(32,32)\n",
    "num_channels=3\n",
    "num_flattened=target_size[0]*target_size[1]*num_channels\n",
    "\n",
    "def get_label(path):\n",
    "    filename = path.split('/')[-1]\n",
    "    if 'muffin' in filename:\n",
    "        return 'muffin'\n",
    "    else:\n",
    "        return 'chihuahua'\n",
    "\n",
    "def resize_image(pixel_data, width, height, target_size=(32, 32)):\n",
    "    # Convert the pixel data to a numpy array and reshape it to (height, width)\n",
    "    image_array = np.array(pixel_data, dtype=np.uint8).reshape((height, width, 3))\n",
    "    # Convert the numpy array to a PIL Image\n",
    "    image = Image.fromarray(image_array, mode=\"RGB\")  # \"L\" for grayscale images\n",
    "    # Resize the image to the target size\n",
    "    image = image.resize(target_size)\n",
    "    # image to list\n",
    "    image = np.array(image, dtype=float).flatten().tolist()\n",
    "    \n",
    "    return image\n",
    "\n",
    "\n",
    "df.printSchema()\n",
    "\n",
    "# registreer de custom functions bij spark (maak udf's aan)\n",
    "get_label_udf = F.udf(get_label, StringType()) # tweede parameter is het returntype\n",
    "resize_image_udf = F.udf(resize_image, ArrayType(DoubleType())) # tweede parameter is het returntype\n",
    "\n",
    "# gebruik de udf's\n",
    "df_data = df.select('image.origin', array_to_vector(resize_image_udf(F.col('image.data'),F.col('image.width'),F.col('image.height'))).alias('data'))\n",
    "df_data = df_data.withColumn('label', get_label_udf(F.col('origin')))\n",
    "df_data.show()\n",
    "\n",
    "# splits in train en testdata\n",
    "train_data, test_data = df_data.randomSplit([0.8, 0.2], seed=15) # seed om niet random te werken maar altijd dezelfde splitings\n",
    "\n",
    "# preprocessing\n",
    "label_indexer = StringIndexer(inputCol='label', outputCol='label_indexed')\n",
    "scaler = MinMaxScaler(inputCol='data', outputCol='scaled_features', max=255.0)\n",
    "preprocessor = Pipeline(stages=[label_indexer, scaler])\n",
    "\n",
    "preprocessor_model = preprocessor.fit(train_data)\n",
    "train_data_pre = preprocessor_model.transform(train_data)\n",
    "test_data_pre = preprocessor_model.transform(test_data)\n",
    "train_data_pre.show()\n",
    "\n",
    "# doe modelling\n",
    "pca = PCA(k=5, inputCol='scaled_features', outputCol='pca_features')\n",
    "lr = LogisticRegression(featuresCol='pca_features', labelCol='label_indexed', maxIter=10)\n",
    "pipeline = Pipeline(stages=[preprocessor, pca, lr]) # je kan hier ook de nog niet gefitte pipeline gebruiken met de scaler als estimator, die wordt dan ook mee gefit\n",
    "\n",
    "model = pipeline.fit(train_data)\n",
    "predictions = model.transform(test_data)\n",
    "predictions.show()\n",
    "\n",
    "# evaluatie\n",
    "preds_and_labels = predictions.select('prediction', 'label_index').rdd.map(lambda x: float(x[0]), float(x[1]))\n",
    "metrics = MultiClassMetrics(preds_and_labels)\n",
    "print(metrics.confusionMatrix().toArray())\n",
    "\n",
    "print(metrics.accuracy)\n"
   ]
  },
  {
   "cell_type": "markdown",
   "id": "3d657168-fc7a-4651-a6a1-f6c110160eda",
   "metadata": {},
   "source": [
    "## Oefening - classificatie\n",
    "\n",
    "Voer de volgende stappen uit, volg de best-practices van het data science vak:\n",
    "* Genereer een dataset met de make_classification functie van Scikit-Learn (of gebruik randomSplit op een bestaande dataset in PySpark).\n",
    "* Converteer de dataset naar een PySpark DataFrame.\n",
    "* Voer basisverkenning uit: toon het schema van de data, bekijk de eerste rijen, en controleer de kolomtypes.\n",
    "* Gebruik VectorAssembler om alle features in één vector-kolom (features) te combineren.\n",
    "* Controleer de structuur van de output.\n",
    "* Train een Logistic Regression model op de gegenereerde dummy data.\n",
    "* Gebruik een training/test split van 80/20.\n",
    "* Evalueer het model door de nauwkeurigheid (accuracy) te berekenen."
   ]
  },
  {
   "cell_type": "code",
   "execution_count": null,
   "id": "230b2aca-c84b-4077-b84a-4474974f2250",
   "metadata": {},
   "outputs": [],
   "source": [
    "from pyspark.sql import SparkSession\n",
    "from pyspark.ml.linalg import Vectors\n",
    "from pyspark.ml.feature import VectorAssembler\n",
    "from pyspark.ml.classification import LogisticRegression\n",
    "from pyspark.ml.evaluation import MulticlassClassificationEvaluator\n",
    "\n",
    "from sklearn.datasets import make_classification\n",
    "import pandas as pd\n",
    "\n",
    "# Maak dummy data\n",
    "X, y = make_classification(n_samples=100, n_features=5, random_state=42)\n",
    "df = pd.DataFrame(X, columns=[f\"feature_{i}\" for i in range(5)])\n",
    "df['label'] = y\n",
    "\n",
    "# Converteer naar Spark DataFrame\n",
    "spark = SparkSession.builder.getOrCreate()\n",
    "df_spark = spark.createDataFrame(df)\n",
    "\n",
    "# Basisexploratie\n",
    "df_spark.printSchema()\n",
    "df_spark.show(5)\n",
    "\n",
    "# Maak een assembler om features samen te voegen\n",
    "assembler = VectorAssembler(inputCols=[f\"feature_{i}\" for i in range(5)], outputCol=\"features\")\n",
    "df_prepared = assembler.transform(df_spark)\n",
    "\n",
    "# Bekijk het resultaat\n",
    "df_prepared.select(\"features\", \"label\").show(5, truncate=False)\n",
    "\n",
    "# Train/test split\n",
    "train_data, test_data = df_prepared.randomSplit([0.8, 0.2], seed=42)\n",
    "\n",
    "# Logistic Regression model\n",
    "lr = LogisticRegression(featuresCol=\"features\", labelCol=\"label\")\n",
    "model = lr.fit(train_data)\n",
    "\n",
    "# Voorspellingen en evaluatie\n",
    "predictions = model.transform(test_data)\n",
    "evaluator = MulticlassClassificationEvaluator(labelCol=\"label\", predictionCol=\"prediction\", metricName=\"accuracy\")\n",
    "accuracy = evaluator.evaluate(predictions)\n",
    "print(f\"Accuracy: {accuracy}\")"
   ]
  },
  {
   "cell_type": "markdown",
   "id": "83900803-722e-4cf2-b123-bbaaa9fab236",
   "metadata": {},
   "source": [
    "## Oefening - hyperparameter tuning\n",
    "\n",
    "Voer de volgende stappen uit, volg de best-practices van het data science vak:\n",
    "* Genereer dummy data (of gebruik bestaande data) om een regressieprobleem op te lossen. (make_regression)\n",
    "* Bouw een pipeline die de data voorbereidt door schaling uit te voeren, een RandomForest-model traint, en de beste hyperparameters selecteert. (Tip: ParamGridBuilder)\n",
    "* Voer hyperparameter tuning uit en evalueer de prestaties van het beste model."
   ]
  },
  {
   "cell_type": "code",
   "execution_count": null,
   "id": "0977b6e7-449f-4126-9fe8-89da6a101d71",
   "metadata": {},
   "outputs": [],
   "source": [
    "from pyspark.ml.regression import RandomForestRegressor\n",
    "from pyspark.ml.feature import VectorAssembler, MinMaxScaler\n",
    "from pyspark.ml import Pipeline\n",
    "from pyspark.ml.tuning import CrossValidator, ParamGridBuilder\n",
    "from pyspark.ml.evaluation import RegressionEvaluator\n",
    "from sklearn.datasets import make_regression\n",
    "import pandas as pd\n",
    "from pyspark.sql import SparkSession\n",
    "\n",
    "# Start een Spark sessie\n",
    "spark = SparkSession.builder.getOrCreate()\n",
    "\n",
    "# Genereer dummy regressie data\n",
    "X, y = make_regression(n_samples=200, n_features=5, noise=0.1, random_state=42)\n",
    "df = pd.DataFrame(X, columns=[f\"feature_{i}\" for i in range(5)])\n",
    "df['label'] = y\n",
    "df_spark = spark.createDataFrame(df)\n",
    "\n",
    "# Stap 1: Data voorbereiden met VectorAssembler en MinMaxScaler\n",
    "assembler = VectorAssembler(inputCols=[f\"feature_{i}\" for i in range(5)], outputCol=\"features_vector\")\n",
    "scaler = MinMaxScaler(inputCol=\"features_vector\", outputCol=\"scaled_features\")\n",
    "\n",
    "# Stap 2: RandomForestRegressor model\n",
    "rf = RandomForestRegressor(featuresCol=\"scaled_features\", labelCol=\"label\")\n",
    "\n",
    "# Stap 3: Pipeline opbouwen\n",
    "pipeline = Pipeline(stages=[assembler, scaler, rf])\n",
    "\n",
    "# Stap 4: Hyperparameter grid instellen voor RandomForestRegressor\n",
    "paramGrid = ParamGridBuilder() \\\n",
    "    .addGrid(rf.numTrees, [10, 20, 50]) \\\n",
    "    .addGrid(rf.maxDepth, [5, 10, 15]) \\\n",
    "    .build()\n",
    "\n",
    "# Stap 5: CrossValidator instellen\n",
    "crossval = CrossValidator(estimator=pipeline,\n",
    "                          estimatorParamMaps=paramGrid,\n",
    "                          evaluator=RegressionEvaluator(labelCol=\"label\", predictionCol=\"prediction\", metricName=\"rmse\"),\n",
    "                          numFolds=3)  # 3-fold cross-validation\n",
    "\n",
    "# Train/test split\n",
    "train_data, test_data = df_spark.randomSplit([0.8, 0.2], seed=42)\n",
    "\n",
    "# Stap 6: Model trainen en tunen\n",
    "cv_model = crossval.fit(train_data)\n",
    "\n",
    "# Stap 7: Het beste model toepassen op de test set\n",
    "best_model = cv_model.bestModel\n",
    "predictions = best_model.transform(test_data)\n",
    "\n",
    "# Evaluatie van het beste model met RMSE (Root Mean Squared Error)\n",
    "evaluator = RegressionEvaluator(labelCol=\"label\", predictionCol=\"prediction\", metricName=\"rmse\")\n",
    "rmse = evaluator.evaluate(predictions)\n",
    "print(f\"Beste model RMSE op test data: {rmse}\")\n",
    "\n",
    "# Beste hyperparameters weergeven\n",
    "print(\"Beste hyperparameters:\")\n",
    "print(\"Aantal bomen (numTrees):\", best_model.stages[-1]._java_obj.getNumTrees())\n",
    "print(\"Maximale diepte (maxDepth):\", best_model.stages[-1]._java_obj.getMaxDepth())\n"
   ]
  }
 ],
 "metadata": {
  "kernelspec": {
   "display_name": "Python 3 (ipykernel)",
   "language": "python",
   "name": "python3"
  },
  "language_info": {
   "codemirror_mode": {
    "name": "ipython",
    "version": 3
   },
   "file_extension": ".py",
   "mimetype": "text/x-python",
   "name": "python",
   "nbconvert_exporter": "python",
   "pygments_lexer": "ipython3",
   "version": "3.10.12"
  }
 },
 "nbformat": 4,
 "nbformat_minor": 5
}
